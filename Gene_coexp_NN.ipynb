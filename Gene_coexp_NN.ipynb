{
  "cells": [
    {
      "cell_type": "markdown",
      "metadata": {
        "id": "view-in-github",
        "colab_type": "text"
      },
      "source": [
        "<a href=\"https://colab.research.google.com/github/lacey-conrad/WGCNA-work/blob/main/Gene_coexp_NN.ipynb\" target=\"_parent\"><img src=\"https://colab.research.google.com/assets/colab-badge.svg\" alt=\"Open In Colab\"/></a>"
      ]
    },
    {
      "cell_type": "code",
      "execution_count": 1,
      "metadata": {
        "id": "MErwVCZPQVIa"
      },
      "outputs": [],
      "source": [
        "import numpy as np\n",
        "import pandas as pd\n",
        "import matplotlib.pyplot as plt \n",
        "import seaborn as sns\n",
        "\n",
        "import tensorflow\n",
        "\n",
        "\n",
        "#from sklearn.model_selection import train_test_split\n",
        "#from sklearn.preprocessing import StandardScaler\n",
        "#from sklearn import metrics\n",
        "#from sklearn.metrics import confusion_matrix, accuracy_score\n",
        "#from sklearn.preprocessing import LabelEncoder\n",
        "\n",
        "#from tensorflow.keras import Sequential\n",
        "#from tensorflow.keras.layers import Dense\n",
        "#from tensorflow import keras\n",
        "#from tensorflow.keras.layers import LeakyReLU"
      ]
    },
    {
      "cell_type": "markdown",
      "metadata": {
        "id": "W48SsE3TQVIc"
      },
      "source": [
        "# 1. Reading in the dataset:"
      ]
    },
    {
      "cell_type": "code",
      "execution_count": 3,
      "metadata": {
        "colab": {
          "base_uri": "https://localhost:8080/"
        },
        "id": "BpjyMCT1QVId",
        "outputId": "6fa1312c-30e5-4602-b4ca-85a4b2220089"
      },
      "outputs": [
        {
          "output_type": "stream",
          "name": "stderr",
          "text": [
            "/usr/local/lib/python3.7/dist-packages/IPython/core/interactiveshell.py:3326: DtypeWarning: Columns (5,6,7,8,9,10,11,12,13,14,15,16,17,18,19,20,21,22,23,24,25,26,27,28,29,30,31,32,33,34,35,36,37,38,39,40,41,42,43,44,45,46,47,48,49,50,51,52,53,54,55,56,57,58,59,60,61,62,63,64,65,66,67,68,69,70,71,72,73,74,75,76,77,78,79,80,81,82,83,84,85,86,87,88,89,90,91,92,93,94) have mixed types.Specify dtype option on import or set low_memory=False.\n",
            "  exec(code_obj, self.user_global_ns, self.user_ns)\n"
          ]
        }
      ],
      "source": [
        "df = pd.read_table('thermo_capacity_counts.txt')"
      ]
    },
    {
      "cell_type": "code",
      "source": [
        "df_gastroc = pd.read_csv('gastroc_raw_counts.csv')"
      ],
      "metadata": {
        "id": "GvUM9wlORPTn"
      },
      "execution_count": 6,
      "outputs": []
    },
    {
      "cell_type": "code",
      "source": [
        "#from google.colab import drive\n",
        "#drive.mount('/content/drive')"
      ],
      "metadata": {
        "id": "F_e6R_lPQ6BE"
      },
      "execution_count": null,
      "outputs": []
    },
    {
      "cell_type": "code",
      "source": [
        "#/content/thermo_capacity_counts.txt"
      ],
      "metadata": {
        "id": "8YuHc9fLRHas"
      },
      "execution_count": null,
      "outputs": []
    },
    {
      "cell_type": "code",
      "execution_count": null,
      "metadata": {
        "id": "w5eWfpxjQVId"
      },
      "outputs": [],
      "source": [
        "#df_copy = df.copy()"
      ]
    },
    {
      "cell_type": "code",
      "execution_count": 11,
      "metadata": {
        "colab": {
          "base_uri": "https://localhost:8080/",
          "height": 300
        },
        "id": "EFO1vRQRQVIe",
        "outputId": "91479564-598e-4910-e533-d082991f09c7"
      },
      "outputs": [
        {
          "output_type": "execute_result",
          "data": {
            "text/plain": [
              "     Unnamed: 0 LN.F1.113.2be LN.F1.113.aa LN.F1.113.ae LN.F1.113.ag  \\\n",
              "0  LOC121821266             0            0            0            0   \n",
              "1  LOC102911281             0            0            0            0   \n",
              "2  LOC102926907             0            0            0            0   \n",
              "3  LOC121821617             0            0            0            1   \n",
              "4  LOC102925994             3            4            3            4   \n",
              "\n",
              "  LN.F1.113.ak LN.F1.113.am LN.F1.113.b LN.F1.113.h LN.F1.113.p  ...  \\\n",
              "0            0            0           0           0           0  ...   \n",
              "1            0            0           0           0           0  ...   \n",
              "2            0            0           0           0           0  ...   \n",
              "3            0            0           0           0           0  ...   \n",
              "4            7            7           9           2           6  ...   \n",
              "\n",
              "  ME.F1.145.ad ME.F1.145.d ME.F1.145.g ME.F1.145.i ME.F1.145.w ME.F1.146.aa  \\\n",
              "0            0           0           0           0           0            0   \n",
              "1            0           0           0           0           0            0   \n",
              "2            0           0           0           0           0            0   \n",
              "3            0           1           0           1           0            0   \n",
              "4            3           9           5           6          11            2   \n",
              "\n",
              "  ME.F1.146.ab ME.F1.146.ac ME.F1.146.be ME.F1.146.bf  \n",
              "0            0            0            0            0  \n",
              "1            0            0            0            0  \n",
              "2            0            0            0            0  \n",
              "3            0            1            1            0  \n",
              "4            2            4            2            5  \n",
              "\n",
              "[5 rows x 48 columns]"
            ],
            "text/html": [
              "\n",
              "  <div id=\"df-fc2cab6d-6ecd-440b-a5d8-8e27c58076eb\">\n",
              "    <div class=\"colab-df-container\">\n",
              "      <div>\n",
              "<style scoped>\n",
              "    .dataframe tbody tr th:only-of-type {\n",
              "        vertical-align: middle;\n",
              "    }\n",
              "\n",
              "    .dataframe tbody tr th {\n",
              "        vertical-align: top;\n",
              "    }\n",
              "\n",
              "    .dataframe thead th {\n",
              "        text-align: right;\n",
              "    }\n",
              "</style>\n",
              "<table border=\"1\" class=\"dataframe\">\n",
              "  <thead>\n",
              "    <tr style=\"text-align: right;\">\n",
              "      <th></th>\n",
              "      <th>Unnamed: 0</th>\n",
              "      <th>LN.F1.113.2be</th>\n",
              "      <th>LN.F1.113.aa</th>\n",
              "      <th>LN.F1.113.ae</th>\n",
              "      <th>LN.F1.113.ag</th>\n",
              "      <th>LN.F1.113.ak</th>\n",
              "      <th>LN.F1.113.am</th>\n",
              "      <th>LN.F1.113.b</th>\n",
              "      <th>LN.F1.113.h</th>\n",
              "      <th>LN.F1.113.p</th>\n",
              "      <th>...</th>\n",
              "      <th>ME.F1.145.ad</th>\n",
              "      <th>ME.F1.145.d</th>\n",
              "      <th>ME.F1.145.g</th>\n",
              "      <th>ME.F1.145.i</th>\n",
              "      <th>ME.F1.145.w</th>\n",
              "      <th>ME.F1.146.aa</th>\n",
              "      <th>ME.F1.146.ab</th>\n",
              "      <th>ME.F1.146.ac</th>\n",
              "      <th>ME.F1.146.be</th>\n",
              "      <th>ME.F1.146.bf</th>\n",
              "    </tr>\n",
              "  </thead>\n",
              "  <tbody>\n",
              "    <tr>\n",
              "      <th>0</th>\n",
              "      <td>LOC121821266</td>\n",
              "      <td>0</td>\n",
              "      <td>0</td>\n",
              "      <td>0</td>\n",
              "      <td>0</td>\n",
              "      <td>0</td>\n",
              "      <td>0</td>\n",
              "      <td>0</td>\n",
              "      <td>0</td>\n",
              "      <td>0</td>\n",
              "      <td>...</td>\n",
              "      <td>0</td>\n",
              "      <td>0</td>\n",
              "      <td>0</td>\n",
              "      <td>0</td>\n",
              "      <td>0</td>\n",
              "      <td>0</td>\n",
              "      <td>0</td>\n",
              "      <td>0</td>\n",
              "      <td>0</td>\n",
              "      <td>0</td>\n",
              "    </tr>\n",
              "    <tr>\n",
              "      <th>1</th>\n",
              "      <td>LOC102911281</td>\n",
              "      <td>0</td>\n",
              "      <td>0</td>\n",
              "      <td>0</td>\n",
              "      <td>0</td>\n",
              "      <td>0</td>\n",
              "      <td>0</td>\n",
              "      <td>0</td>\n",
              "      <td>0</td>\n",
              "      <td>0</td>\n",
              "      <td>...</td>\n",
              "      <td>0</td>\n",
              "      <td>0</td>\n",
              "      <td>0</td>\n",
              "      <td>0</td>\n",
              "      <td>0</td>\n",
              "      <td>0</td>\n",
              "      <td>0</td>\n",
              "      <td>0</td>\n",
              "      <td>0</td>\n",
              "      <td>0</td>\n",
              "    </tr>\n",
              "    <tr>\n",
              "      <th>2</th>\n",
              "      <td>LOC102926907</td>\n",
              "      <td>0</td>\n",
              "      <td>0</td>\n",
              "      <td>0</td>\n",
              "      <td>0</td>\n",
              "      <td>0</td>\n",
              "      <td>0</td>\n",
              "      <td>0</td>\n",
              "      <td>0</td>\n",
              "      <td>0</td>\n",
              "      <td>...</td>\n",
              "      <td>0</td>\n",
              "      <td>0</td>\n",
              "      <td>0</td>\n",
              "      <td>0</td>\n",
              "      <td>0</td>\n",
              "      <td>0</td>\n",
              "      <td>0</td>\n",
              "      <td>0</td>\n",
              "      <td>0</td>\n",
              "      <td>0</td>\n",
              "    </tr>\n",
              "    <tr>\n",
              "      <th>3</th>\n",
              "      <td>LOC121821617</td>\n",
              "      <td>0</td>\n",
              "      <td>0</td>\n",
              "      <td>0</td>\n",
              "      <td>1</td>\n",
              "      <td>0</td>\n",
              "      <td>0</td>\n",
              "      <td>0</td>\n",
              "      <td>0</td>\n",
              "      <td>0</td>\n",
              "      <td>...</td>\n",
              "      <td>0</td>\n",
              "      <td>1</td>\n",
              "      <td>0</td>\n",
              "      <td>1</td>\n",
              "      <td>0</td>\n",
              "      <td>0</td>\n",
              "      <td>0</td>\n",
              "      <td>1</td>\n",
              "      <td>1</td>\n",
              "      <td>0</td>\n",
              "    </tr>\n",
              "    <tr>\n",
              "      <th>4</th>\n",
              "      <td>LOC102925994</td>\n",
              "      <td>3</td>\n",
              "      <td>4</td>\n",
              "      <td>3</td>\n",
              "      <td>4</td>\n",
              "      <td>7</td>\n",
              "      <td>7</td>\n",
              "      <td>9</td>\n",
              "      <td>2</td>\n",
              "      <td>6</td>\n",
              "      <td>...</td>\n",
              "      <td>3</td>\n",
              "      <td>9</td>\n",
              "      <td>5</td>\n",
              "      <td>6</td>\n",
              "      <td>11</td>\n",
              "      <td>2</td>\n",
              "      <td>2</td>\n",
              "      <td>4</td>\n",
              "      <td>2</td>\n",
              "      <td>5</td>\n",
              "    </tr>\n",
              "  </tbody>\n",
              "</table>\n",
              "<p>5 rows × 48 columns</p>\n",
              "</div>\n",
              "      <button class=\"colab-df-convert\" onclick=\"convertToInteractive('df-fc2cab6d-6ecd-440b-a5d8-8e27c58076eb')\"\n",
              "              title=\"Convert this dataframe to an interactive table.\"\n",
              "              style=\"display:none;\">\n",
              "        \n",
              "  <svg xmlns=\"http://www.w3.org/2000/svg\" height=\"24px\"viewBox=\"0 0 24 24\"\n",
              "       width=\"24px\">\n",
              "    <path d=\"M0 0h24v24H0V0z\" fill=\"none\"/>\n",
              "    <path d=\"M18.56 5.44l.94 2.06.94-2.06 2.06-.94-2.06-.94-.94-2.06-.94 2.06-2.06.94zm-11 1L8.5 8.5l.94-2.06 2.06-.94-2.06-.94L8.5 2.5l-.94 2.06-2.06.94zm10 10l.94 2.06.94-2.06 2.06-.94-2.06-.94-.94-2.06-.94 2.06-2.06.94z\"/><path d=\"M17.41 7.96l-1.37-1.37c-.4-.4-.92-.59-1.43-.59-.52 0-1.04.2-1.43.59L10.3 9.45l-7.72 7.72c-.78.78-.78 2.05 0 2.83L4 21.41c.39.39.9.59 1.41.59.51 0 1.02-.2 1.41-.59l7.78-7.78 2.81-2.81c.8-.78.8-2.07 0-2.86zM5.41 20L4 18.59l7.72-7.72 1.47 1.35L5.41 20z\"/>\n",
              "  </svg>\n",
              "      </button>\n",
              "      \n",
              "  <style>\n",
              "    .colab-df-container {\n",
              "      display:flex;\n",
              "      flex-wrap:wrap;\n",
              "      gap: 12px;\n",
              "    }\n",
              "\n",
              "    .colab-df-convert {\n",
              "      background-color: #E8F0FE;\n",
              "      border: none;\n",
              "      border-radius: 50%;\n",
              "      cursor: pointer;\n",
              "      display: none;\n",
              "      fill: #1967D2;\n",
              "      height: 32px;\n",
              "      padding: 0 0 0 0;\n",
              "      width: 32px;\n",
              "    }\n",
              "\n",
              "    .colab-df-convert:hover {\n",
              "      background-color: #E2EBFA;\n",
              "      box-shadow: 0px 1px 2px rgba(60, 64, 67, 0.3), 0px 1px 3px 1px rgba(60, 64, 67, 0.15);\n",
              "      fill: #174EA6;\n",
              "    }\n",
              "\n",
              "    [theme=dark] .colab-df-convert {\n",
              "      background-color: #3B4455;\n",
              "      fill: #D2E3FC;\n",
              "    }\n",
              "\n",
              "    [theme=dark] .colab-df-convert:hover {\n",
              "      background-color: #434B5C;\n",
              "      box-shadow: 0px 1px 3px 1px rgba(0, 0, 0, 0.15);\n",
              "      filter: drop-shadow(0px 1px 2px rgba(0, 0, 0, 0.3));\n",
              "      fill: #FFFFFF;\n",
              "    }\n",
              "  </style>\n",
              "\n",
              "      <script>\n",
              "        const buttonEl =\n",
              "          document.querySelector('#df-fc2cab6d-6ecd-440b-a5d8-8e27c58076eb button.colab-df-convert');\n",
              "        buttonEl.style.display =\n",
              "          google.colab.kernel.accessAllowed ? 'block' : 'none';\n",
              "\n",
              "        async function convertToInteractive(key) {\n",
              "          const element = document.querySelector('#df-fc2cab6d-6ecd-440b-a5d8-8e27c58076eb');\n",
              "          const dataTable =\n",
              "            await google.colab.kernel.invokeFunction('convertToInteractive',\n",
              "                                                     [key], {});\n",
              "          if (!dataTable) return;\n",
              "\n",
              "          const docLinkHtml = 'Like what you see? Visit the ' +\n",
              "            '<a target=\"_blank\" href=https://colab.research.google.com/notebooks/data_table.ipynb>data table notebook</a>'\n",
              "            + ' to learn more about interactive tables.';\n",
              "          element.innerHTML = '';\n",
              "          dataTable['output_type'] = 'display_data';\n",
              "          await google.colab.output.renderOutput(dataTable, element);\n",
              "          const docLink = document.createElement('div');\n",
              "          docLink.innerHTML = docLinkHtml;\n",
              "          element.appendChild(docLink);\n",
              "        }\n",
              "      </script>\n",
              "    </div>\n",
              "  </div>\n",
              "  "
            ]
          },
          "metadata": {},
          "execution_count": 11
        }
      ],
      "source": [
        "df_gastroc.head()"
      ]
    },
    {
      "cell_type": "code",
      "source": [
        "df_gastroc = df_gastroc.T"
      ],
      "metadata": {
        "id": "fsJQAXjMSlrf"
      },
      "execution_count": 9,
      "outputs": []
    },
    {
      "cell_type": "code",
      "source": [
        "df_gastroc.columns = df_gastroc.iloc[0]"
      ],
      "metadata": {
        "id": "zUx4Pnb7TO_1"
      },
      "execution_count": 16,
      "outputs": []
    },
    {
      "cell_type": "code",
      "source": [
        "df_gastroc = df_gastroc.iloc[1: , :]"
      ],
      "metadata": {
        "id": "YU2AS3ioTc4s"
      },
      "execution_count": 18,
      "outputs": []
    },
    {
      "cell_type": "code",
      "source": [
        "df_gastroc.head()"
      ],
      "metadata": {
        "colab": {
          "base_uri": "https://localhost:8080/",
          "height": 300
        },
        "id": "AhxT2lUmSrFY",
        "outputId": "0319844e-5721-48eb-e1bc-606cf4841872"
      },
      "execution_count": 19,
      "outputs": [
        {
          "output_type": "execute_result",
          "data": {
            "text/plain": [
              "Unnamed: 0    LOC121821266 LOC102911281 LOC102926907 LOC121821617  \\\n",
              "LN.F1.113.2be            0            0            0            0   \n",
              "LN.F1.113.aa             0            0            0            0   \n",
              "LN.F1.113.ae             0            0            0            0   \n",
              "LN.F1.113.ag             0            0            0            1   \n",
              "LN.F1.113.ak             0            0            0            0   \n",
              "\n",
              "Unnamed: 0    LOC102925994 LOC102925679 LOC121821541 LOC102925362  \\\n",
              "LN.F1.113.2be            3            0            3            3   \n",
              "LN.F1.113.aa             4            0            1            0   \n",
              "LN.F1.113.ae             3            0            1            2   \n",
              "LN.F1.113.ag             4            0            0            0   \n",
              "LN.F1.113.ak             7            0            0            3   \n",
              "\n",
              "Unnamed: 0    LOC121821593 LOC102924750  ... EI127_mgp04 EI127_mgt17  \\\n",
              "LN.F1.113.2be            0            0  ...       11886         276   \n",
              "LN.F1.113.aa             0            0  ...       12638         371   \n",
              "LN.F1.113.ae             0            0  ...        9748         272   \n",
              "LN.F1.113.ag             0            0  ...       16001         495   \n",
              "LN.F1.113.ak             1            0  ...       13241         337   \n",
              "\n",
              "Unnamed: 0    EI127_mgt18 EI127_mgt19 EI127_mgp03 EI127_mgp02 EI127_mgt20  \\\n",
              "LN.F1.113.2be         122          92        6169        5420        2144   \n",
              "LN.F1.113.aa          207          81        7024        6495        1673   \n",
              "LN.F1.113.ae          135          67        5841        5400        1414   \n",
              "LN.F1.113.ag          230         116        9873        7522        2011   \n",
              "LN.F1.113.ak          180          91        7773        6657        1650   \n",
              "\n",
              "Unnamed: 0    EI127_mgp01 EI127_mgt21 EI127_mgt22  \n",
              "LN.F1.113.2be       16304         173        1511  \n",
              "LN.F1.113.aa        16561         142        1280  \n",
              "LN.F1.113.ae        13018         103         955  \n",
              "LN.F1.113.ag        21779         196        1599  \n",
              "LN.F1.113.ak        16713         109        1130  \n",
              "\n",
              "[5 rows x 32829 columns]"
            ],
            "text/html": [
              "\n",
              "  <div id=\"df-1e29638a-02a5-4fa2-9249-7874e2b2d1e9\">\n",
              "    <div class=\"colab-df-container\">\n",
              "      <div>\n",
              "<style scoped>\n",
              "    .dataframe tbody tr th:only-of-type {\n",
              "        vertical-align: middle;\n",
              "    }\n",
              "\n",
              "    .dataframe tbody tr th {\n",
              "        vertical-align: top;\n",
              "    }\n",
              "\n",
              "    .dataframe thead th {\n",
              "        text-align: right;\n",
              "    }\n",
              "</style>\n",
              "<table border=\"1\" class=\"dataframe\">\n",
              "  <thead>\n",
              "    <tr style=\"text-align: right;\">\n",
              "      <th>Unnamed: 0</th>\n",
              "      <th>LOC121821266</th>\n",
              "      <th>LOC102911281</th>\n",
              "      <th>LOC102926907</th>\n",
              "      <th>LOC121821617</th>\n",
              "      <th>LOC102925994</th>\n",
              "      <th>LOC102925679</th>\n",
              "      <th>LOC121821541</th>\n",
              "      <th>LOC102925362</th>\n",
              "      <th>LOC121821593</th>\n",
              "      <th>LOC102924750</th>\n",
              "      <th>...</th>\n",
              "      <th>EI127_mgp04</th>\n",
              "      <th>EI127_mgt17</th>\n",
              "      <th>EI127_mgt18</th>\n",
              "      <th>EI127_mgt19</th>\n",
              "      <th>EI127_mgp03</th>\n",
              "      <th>EI127_mgp02</th>\n",
              "      <th>EI127_mgt20</th>\n",
              "      <th>EI127_mgp01</th>\n",
              "      <th>EI127_mgt21</th>\n",
              "      <th>EI127_mgt22</th>\n",
              "    </tr>\n",
              "  </thead>\n",
              "  <tbody>\n",
              "    <tr>\n",
              "      <th>LN.F1.113.2be</th>\n",
              "      <td>0</td>\n",
              "      <td>0</td>\n",
              "      <td>0</td>\n",
              "      <td>0</td>\n",
              "      <td>3</td>\n",
              "      <td>0</td>\n",
              "      <td>3</td>\n",
              "      <td>3</td>\n",
              "      <td>0</td>\n",
              "      <td>0</td>\n",
              "      <td>...</td>\n",
              "      <td>11886</td>\n",
              "      <td>276</td>\n",
              "      <td>122</td>\n",
              "      <td>92</td>\n",
              "      <td>6169</td>\n",
              "      <td>5420</td>\n",
              "      <td>2144</td>\n",
              "      <td>16304</td>\n",
              "      <td>173</td>\n",
              "      <td>1511</td>\n",
              "    </tr>\n",
              "    <tr>\n",
              "      <th>LN.F1.113.aa</th>\n",
              "      <td>0</td>\n",
              "      <td>0</td>\n",
              "      <td>0</td>\n",
              "      <td>0</td>\n",
              "      <td>4</td>\n",
              "      <td>0</td>\n",
              "      <td>1</td>\n",
              "      <td>0</td>\n",
              "      <td>0</td>\n",
              "      <td>0</td>\n",
              "      <td>...</td>\n",
              "      <td>12638</td>\n",
              "      <td>371</td>\n",
              "      <td>207</td>\n",
              "      <td>81</td>\n",
              "      <td>7024</td>\n",
              "      <td>6495</td>\n",
              "      <td>1673</td>\n",
              "      <td>16561</td>\n",
              "      <td>142</td>\n",
              "      <td>1280</td>\n",
              "    </tr>\n",
              "    <tr>\n",
              "      <th>LN.F1.113.ae</th>\n",
              "      <td>0</td>\n",
              "      <td>0</td>\n",
              "      <td>0</td>\n",
              "      <td>0</td>\n",
              "      <td>3</td>\n",
              "      <td>0</td>\n",
              "      <td>1</td>\n",
              "      <td>2</td>\n",
              "      <td>0</td>\n",
              "      <td>0</td>\n",
              "      <td>...</td>\n",
              "      <td>9748</td>\n",
              "      <td>272</td>\n",
              "      <td>135</td>\n",
              "      <td>67</td>\n",
              "      <td>5841</td>\n",
              "      <td>5400</td>\n",
              "      <td>1414</td>\n",
              "      <td>13018</td>\n",
              "      <td>103</td>\n",
              "      <td>955</td>\n",
              "    </tr>\n",
              "    <tr>\n",
              "      <th>LN.F1.113.ag</th>\n",
              "      <td>0</td>\n",
              "      <td>0</td>\n",
              "      <td>0</td>\n",
              "      <td>1</td>\n",
              "      <td>4</td>\n",
              "      <td>0</td>\n",
              "      <td>0</td>\n",
              "      <td>0</td>\n",
              "      <td>0</td>\n",
              "      <td>0</td>\n",
              "      <td>...</td>\n",
              "      <td>16001</td>\n",
              "      <td>495</td>\n",
              "      <td>230</td>\n",
              "      <td>116</td>\n",
              "      <td>9873</td>\n",
              "      <td>7522</td>\n",
              "      <td>2011</td>\n",
              "      <td>21779</td>\n",
              "      <td>196</td>\n",
              "      <td>1599</td>\n",
              "    </tr>\n",
              "    <tr>\n",
              "      <th>LN.F1.113.ak</th>\n",
              "      <td>0</td>\n",
              "      <td>0</td>\n",
              "      <td>0</td>\n",
              "      <td>0</td>\n",
              "      <td>7</td>\n",
              "      <td>0</td>\n",
              "      <td>0</td>\n",
              "      <td>3</td>\n",
              "      <td>1</td>\n",
              "      <td>0</td>\n",
              "      <td>...</td>\n",
              "      <td>13241</td>\n",
              "      <td>337</td>\n",
              "      <td>180</td>\n",
              "      <td>91</td>\n",
              "      <td>7773</td>\n",
              "      <td>6657</td>\n",
              "      <td>1650</td>\n",
              "      <td>16713</td>\n",
              "      <td>109</td>\n",
              "      <td>1130</td>\n",
              "    </tr>\n",
              "  </tbody>\n",
              "</table>\n",
              "<p>5 rows × 32829 columns</p>\n",
              "</div>\n",
              "      <button class=\"colab-df-convert\" onclick=\"convertToInteractive('df-1e29638a-02a5-4fa2-9249-7874e2b2d1e9')\"\n",
              "              title=\"Convert this dataframe to an interactive table.\"\n",
              "              style=\"display:none;\">\n",
              "        \n",
              "  <svg xmlns=\"http://www.w3.org/2000/svg\" height=\"24px\"viewBox=\"0 0 24 24\"\n",
              "       width=\"24px\">\n",
              "    <path d=\"M0 0h24v24H0V0z\" fill=\"none\"/>\n",
              "    <path d=\"M18.56 5.44l.94 2.06.94-2.06 2.06-.94-2.06-.94-.94-2.06-.94 2.06-2.06.94zm-11 1L8.5 8.5l.94-2.06 2.06-.94-2.06-.94L8.5 2.5l-.94 2.06-2.06.94zm10 10l.94 2.06.94-2.06 2.06-.94-2.06-.94-.94-2.06-.94 2.06-2.06.94z\"/><path d=\"M17.41 7.96l-1.37-1.37c-.4-.4-.92-.59-1.43-.59-.52 0-1.04.2-1.43.59L10.3 9.45l-7.72 7.72c-.78.78-.78 2.05 0 2.83L4 21.41c.39.39.9.59 1.41.59.51 0 1.02-.2 1.41-.59l7.78-7.78 2.81-2.81c.8-.78.8-2.07 0-2.86zM5.41 20L4 18.59l7.72-7.72 1.47 1.35L5.41 20z\"/>\n",
              "  </svg>\n",
              "      </button>\n",
              "      \n",
              "  <style>\n",
              "    .colab-df-container {\n",
              "      display:flex;\n",
              "      flex-wrap:wrap;\n",
              "      gap: 12px;\n",
              "    }\n",
              "\n",
              "    .colab-df-convert {\n",
              "      background-color: #E8F0FE;\n",
              "      border: none;\n",
              "      border-radius: 50%;\n",
              "      cursor: pointer;\n",
              "      display: none;\n",
              "      fill: #1967D2;\n",
              "      height: 32px;\n",
              "      padding: 0 0 0 0;\n",
              "      width: 32px;\n",
              "    }\n",
              "\n",
              "    .colab-df-convert:hover {\n",
              "      background-color: #E2EBFA;\n",
              "      box-shadow: 0px 1px 2px rgba(60, 64, 67, 0.3), 0px 1px 3px 1px rgba(60, 64, 67, 0.15);\n",
              "      fill: #174EA6;\n",
              "    }\n",
              "\n",
              "    [theme=dark] .colab-df-convert {\n",
              "      background-color: #3B4455;\n",
              "      fill: #D2E3FC;\n",
              "    }\n",
              "\n",
              "    [theme=dark] .colab-df-convert:hover {\n",
              "      background-color: #434B5C;\n",
              "      box-shadow: 0px 1px 3px 1px rgba(0, 0, 0, 0.15);\n",
              "      filter: drop-shadow(0px 1px 2px rgba(0, 0, 0, 0.3));\n",
              "      fill: #FFFFFF;\n",
              "    }\n",
              "  </style>\n",
              "\n",
              "      <script>\n",
              "        const buttonEl =\n",
              "          document.querySelector('#df-1e29638a-02a5-4fa2-9249-7874e2b2d1e9 button.colab-df-convert');\n",
              "        buttonEl.style.display =\n",
              "          google.colab.kernel.accessAllowed ? 'block' : 'none';\n",
              "\n",
              "        async function convertToInteractive(key) {\n",
              "          const element = document.querySelector('#df-1e29638a-02a5-4fa2-9249-7874e2b2d1e9');\n",
              "          const dataTable =\n",
              "            await google.colab.kernel.invokeFunction('convertToInteractive',\n",
              "                                                     [key], {});\n",
              "          if (!dataTable) return;\n",
              "\n",
              "          const docLinkHtml = 'Like what you see? Visit the ' +\n",
              "            '<a target=\"_blank\" href=https://colab.research.google.com/notebooks/data_table.ipynb>data table notebook</a>'\n",
              "            + ' to learn more about interactive tables.';\n",
              "          element.innerHTML = '';\n",
              "          dataTable['output_type'] = 'display_data';\n",
              "          await google.colab.output.renderOutput(dataTable, element);\n",
              "          const docLink = document.createElement('div');\n",
              "          docLink.innerHTML = docLinkHtml;\n",
              "          element.appendChild(docLink);\n",
              "        }\n",
              "      </script>\n",
              "    </div>\n",
              "  </div>\n",
              "  "
            ]
          },
          "metadata": {},
          "execution_count": 19
        }
      ]
    },
    {
      "cell_type": "code",
      "source": [],
      "metadata": {
        "id": "ykTla6rMSrKv"
      },
      "execution_count": null,
      "outputs": []
    },
    {
      "cell_type": "code",
      "execution_count": 8,
      "metadata": {
        "colab": {
          "base_uri": "https://localhost:8080/"
        },
        "id": "iVJndSzjQVIe",
        "outputId": "1f694c11-429e-4dcd-c400-7989e2b5de27"
      },
      "outputs": [
        {
          "output_type": "execute_result",
          "data": {
            "text/plain": [
              "Unnamed: 0        32829\n",
              "LN.F1.113.2be     32829\n",
              "LN.F1.113.aa      32829\n",
              "LN.F1.113.ae      32829\n",
              "LN.F1.113.ag      32829\n",
              "LN.F1.113.ak      32829\n",
              "LN.F1.113.am      32829\n",
              "LN.F1.113.b       32829\n",
              "LN.F1.113.h       32829\n",
              "LN.F1.113.p       32829\n",
              "LN.F1.132.af      32829\n",
              "LN.F1.132.aj      32829\n",
              "LN.F1.132.aq.2    32829\n",
              "LN.F1.132.ar      32829\n",
              "LN.F1.132.as      32829\n",
              "LN.F1.132.at      32829\n",
              "LN.F1.132.aw      32829\n",
              "LN.F1.132.ax      32829\n",
              "LN.F1.132.ay      32829\n",
              "LN.F1.132.ba      32829\n",
              "LN.F1.132.bc      32829\n",
              "LN.F1.132.be.2    32829\n",
              "LN.F1.132.bh      32829\n",
              "LN.F1.132.t       32829\n",
              "ME.F1.134.a       32829\n",
              "ME.F1.134.b       32829\n",
              "ME.F1.136.h       32829\n",
              "ME.F1.136.i       32829\n",
              "ME.F1.136.j       32829\n",
              "ME.F1.139.af      32829\n",
              "ME.F1.139.ag      32829\n",
              "ME.F1.141.at      32829\n",
              "ME.F1.141.q       32829\n",
              "ME.F1.141.r       32829\n",
              "ME.F1.141.t       32829\n",
              "ME.F1.141.u       32829\n",
              "ME.F1.141.w       32829\n",
              "ME.F1.144.u       32829\n",
              "ME.F1.145.ad      32829\n",
              "ME.F1.145.d       32829\n",
              "ME.F1.145.g       32829\n",
              "ME.F1.145.i       32829\n",
              "ME.F1.145.w       32829\n",
              "ME.F1.146.aa      32829\n",
              "ME.F1.146.ab      32829\n",
              "ME.F1.146.ac      32829\n",
              "ME.F1.146.be      32829\n",
              "ME.F1.146.bf      32829\n",
              "dtype: int64"
            ]
          },
          "metadata": {},
          "execution_count": 8
        }
      ],
      "source": [
        "#pd.isnull(df_gastroc).count()"
      ]
    },
    {
      "cell_type": "code",
      "execution_count": null,
      "metadata": {
        "id": "-0R7fxwRQVIe"
      },
      "outputs": [],
      "source": [
        "#df.describe()"
      ]
    },
    {
      "cell_type": "code",
      "source": [
        "df_gastroc = df_gastroc.reset_index()"
      ],
      "metadata": {
        "id": "fWvx-WJ-V6S-"
      },
      "execution_count": 21,
      "outputs": []
    },
    {
      "cell_type": "code",
      "source": [
        "df_gastroc.head()"
      ],
      "metadata": {
        "colab": {
          "base_uri": "https://localhost:8080/",
          "height": 317
        },
        "id": "G3-SK4alV_7R",
        "outputId": "f7d45913-6234-4b1c-9da2-c2b869c89e1f"
      },
      "execution_count": 22,
      "outputs": [
        {
          "output_type": "execute_result",
          "data": {
            "text/plain": [
              "Unnamed: 0          index LOC121821266 LOC102911281 LOC102926907 LOC121821617  \\\n",
              "0           LN.F1.113.2be            0            0            0            0   \n",
              "1            LN.F1.113.aa            0            0            0            0   \n",
              "2            LN.F1.113.ae            0            0            0            0   \n",
              "3            LN.F1.113.ag            0            0            0            1   \n",
              "4            LN.F1.113.ak            0            0            0            0   \n",
              "\n",
              "Unnamed: 0 LOC102925994 LOC102925679 LOC121821541 LOC102925362 LOC121821593  \\\n",
              "0                     3            0            3            3            0   \n",
              "1                     4            0            1            0            0   \n",
              "2                     3            0            1            2            0   \n",
              "3                     4            0            0            0            0   \n",
              "4                     7            0            0            3            1   \n",
              "\n",
              "Unnamed: 0  ... EI127_mgt17 EI127_mgt18 EI127_mgt19 EI127_mgp03 EI127_mgp02  \\\n",
              "0           ...         276         122          92        6169        5420   \n",
              "1           ...         371         207          81        7024        6495   \n",
              "2           ...         272         135          67        5841        5400   \n",
              "3           ...         495         230         116        9873        7522   \n",
              "4           ...         337         180          91        7773        6657   \n",
              "\n",
              "Unnamed: 0 EI127_mgt20 EI127_mgp01 EI127_mgt21 EI127_mgt22 Index  \n",
              "0                 2144       16304         173        1511     1  \n",
              "1                 1673       16561         142        1280     2  \n",
              "2                 1414       13018         103         955     3  \n",
              "3                 2011       21779         196        1599     4  \n",
              "4                 1650       16713         109        1130     5  \n",
              "\n",
              "[5 rows x 32831 columns]"
            ],
            "text/html": [
              "\n",
              "  <div id=\"df-c5175349-09e5-4984-a503-2617de62a5fd\">\n",
              "    <div class=\"colab-df-container\">\n",
              "      <div>\n",
              "<style scoped>\n",
              "    .dataframe tbody tr th:only-of-type {\n",
              "        vertical-align: middle;\n",
              "    }\n",
              "\n",
              "    .dataframe tbody tr th {\n",
              "        vertical-align: top;\n",
              "    }\n",
              "\n",
              "    .dataframe thead th {\n",
              "        text-align: right;\n",
              "    }\n",
              "</style>\n",
              "<table border=\"1\" class=\"dataframe\">\n",
              "  <thead>\n",
              "    <tr style=\"text-align: right;\">\n",
              "      <th>Unnamed: 0</th>\n",
              "      <th>index</th>\n",
              "      <th>LOC121821266</th>\n",
              "      <th>LOC102911281</th>\n",
              "      <th>LOC102926907</th>\n",
              "      <th>LOC121821617</th>\n",
              "      <th>LOC102925994</th>\n",
              "      <th>LOC102925679</th>\n",
              "      <th>LOC121821541</th>\n",
              "      <th>LOC102925362</th>\n",
              "      <th>LOC121821593</th>\n",
              "      <th>...</th>\n",
              "      <th>EI127_mgt17</th>\n",
              "      <th>EI127_mgt18</th>\n",
              "      <th>EI127_mgt19</th>\n",
              "      <th>EI127_mgp03</th>\n",
              "      <th>EI127_mgp02</th>\n",
              "      <th>EI127_mgt20</th>\n",
              "      <th>EI127_mgp01</th>\n",
              "      <th>EI127_mgt21</th>\n",
              "      <th>EI127_mgt22</th>\n",
              "      <th>Index</th>\n",
              "    </tr>\n",
              "  </thead>\n",
              "  <tbody>\n",
              "    <tr>\n",
              "      <th>0</th>\n",
              "      <td>LN.F1.113.2be</td>\n",
              "      <td>0</td>\n",
              "      <td>0</td>\n",
              "      <td>0</td>\n",
              "      <td>0</td>\n",
              "      <td>3</td>\n",
              "      <td>0</td>\n",
              "      <td>3</td>\n",
              "      <td>3</td>\n",
              "      <td>0</td>\n",
              "      <td>...</td>\n",
              "      <td>276</td>\n",
              "      <td>122</td>\n",
              "      <td>92</td>\n",
              "      <td>6169</td>\n",
              "      <td>5420</td>\n",
              "      <td>2144</td>\n",
              "      <td>16304</td>\n",
              "      <td>173</td>\n",
              "      <td>1511</td>\n",
              "      <td>1</td>\n",
              "    </tr>\n",
              "    <tr>\n",
              "      <th>1</th>\n",
              "      <td>LN.F1.113.aa</td>\n",
              "      <td>0</td>\n",
              "      <td>0</td>\n",
              "      <td>0</td>\n",
              "      <td>0</td>\n",
              "      <td>4</td>\n",
              "      <td>0</td>\n",
              "      <td>1</td>\n",
              "      <td>0</td>\n",
              "      <td>0</td>\n",
              "      <td>...</td>\n",
              "      <td>371</td>\n",
              "      <td>207</td>\n",
              "      <td>81</td>\n",
              "      <td>7024</td>\n",
              "      <td>6495</td>\n",
              "      <td>1673</td>\n",
              "      <td>16561</td>\n",
              "      <td>142</td>\n",
              "      <td>1280</td>\n",
              "      <td>2</td>\n",
              "    </tr>\n",
              "    <tr>\n",
              "      <th>2</th>\n",
              "      <td>LN.F1.113.ae</td>\n",
              "      <td>0</td>\n",
              "      <td>0</td>\n",
              "      <td>0</td>\n",
              "      <td>0</td>\n",
              "      <td>3</td>\n",
              "      <td>0</td>\n",
              "      <td>1</td>\n",
              "      <td>2</td>\n",
              "      <td>0</td>\n",
              "      <td>...</td>\n",
              "      <td>272</td>\n",
              "      <td>135</td>\n",
              "      <td>67</td>\n",
              "      <td>5841</td>\n",
              "      <td>5400</td>\n",
              "      <td>1414</td>\n",
              "      <td>13018</td>\n",
              "      <td>103</td>\n",
              "      <td>955</td>\n",
              "      <td>3</td>\n",
              "    </tr>\n",
              "    <tr>\n",
              "      <th>3</th>\n",
              "      <td>LN.F1.113.ag</td>\n",
              "      <td>0</td>\n",
              "      <td>0</td>\n",
              "      <td>0</td>\n",
              "      <td>1</td>\n",
              "      <td>4</td>\n",
              "      <td>0</td>\n",
              "      <td>0</td>\n",
              "      <td>0</td>\n",
              "      <td>0</td>\n",
              "      <td>...</td>\n",
              "      <td>495</td>\n",
              "      <td>230</td>\n",
              "      <td>116</td>\n",
              "      <td>9873</td>\n",
              "      <td>7522</td>\n",
              "      <td>2011</td>\n",
              "      <td>21779</td>\n",
              "      <td>196</td>\n",
              "      <td>1599</td>\n",
              "      <td>4</td>\n",
              "    </tr>\n",
              "    <tr>\n",
              "      <th>4</th>\n",
              "      <td>LN.F1.113.ak</td>\n",
              "      <td>0</td>\n",
              "      <td>0</td>\n",
              "      <td>0</td>\n",
              "      <td>0</td>\n",
              "      <td>7</td>\n",
              "      <td>0</td>\n",
              "      <td>0</td>\n",
              "      <td>3</td>\n",
              "      <td>1</td>\n",
              "      <td>...</td>\n",
              "      <td>337</td>\n",
              "      <td>180</td>\n",
              "      <td>91</td>\n",
              "      <td>7773</td>\n",
              "      <td>6657</td>\n",
              "      <td>1650</td>\n",
              "      <td>16713</td>\n",
              "      <td>109</td>\n",
              "      <td>1130</td>\n",
              "      <td>5</td>\n",
              "    </tr>\n",
              "  </tbody>\n",
              "</table>\n",
              "<p>5 rows × 32831 columns</p>\n",
              "</div>\n",
              "      <button class=\"colab-df-convert\" onclick=\"convertToInteractive('df-c5175349-09e5-4984-a503-2617de62a5fd')\"\n",
              "              title=\"Convert this dataframe to an interactive table.\"\n",
              "              style=\"display:none;\">\n",
              "        \n",
              "  <svg xmlns=\"http://www.w3.org/2000/svg\" height=\"24px\"viewBox=\"0 0 24 24\"\n",
              "       width=\"24px\">\n",
              "    <path d=\"M0 0h24v24H0V0z\" fill=\"none\"/>\n",
              "    <path d=\"M18.56 5.44l.94 2.06.94-2.06 2.06-.94-2.06-.94-.94-2.06-.94 2.06-2.06.94zm-11 1L8.5 8.5l.94-2.06 2.06-.94-2.06-.94L8.5 2.5l-.94 2.06-2.06.94zm10 10l.94 2.06.94-2.06 2.06-.94-2.06-.94-.94-2.06-.94 2.06-2.06.94z\"/><path d=\"M17.41 7.96l-1.37-1.37c-.4-.4-.92-.59-1.43-.59-.52 0-1.04.2-1.43.59L10.3 9.45l-7.72 7.72c-.78.78-.78 2.05 0 2.83L4 21.41c.39.39.9.59 1.41.59.51 0 1.02-.2 1.41-.59l7.78-7.78 2.81-2.81c.8-.78.8-2.07 0-2.86zM5.41 20L4 18.59l7.72-7.72 1.47 1.35L5.41 20z\"/>\n",
              "  </svg>\n",
              "      </button>\n",
              "      \n",
              "  <style>\n",
              "    .colab-df-container {\n",
              "      display:flex;\n",
              "      flex-wrap:wrap;\n",
              "      gap: 12px;\n",
              "    }\n",
              "\n",
              "    .colab-df-convert {\n",
              "      background-color: #E8F0FE;\n",
              "      border: none;\n",
              "      border-radius: 50%;\n",
              "      cursor: pointer;\n",
              "      display: none;\n",
              "      fill: #1967D2;\n",
              "      height: 32px;\n",
              "      padding: 0 0 0 0;\n",
              "      width: 32px;\n",
              "    }\n",
              "\n",
              "    .colab-df-convert:hover {\n",
              "      background-color: #E2EBFA;\n",
              "      box-shadow: 0px 1px 2px rgba(60, 64, 67, 0.3), 0px 1px 3px 1px rgba(60, 64, 67, 0.15);\n",
              "      fill: #174EA6;\n",
              "    }\n",
              "\n",
              "    [theme=dark] .colab-df-convert {\n",
              "      background-color: #3B4455;\n",
              "      fill: #D2E3FC;\n",
              "    }\n",
              "\n",
              "    [theme=dark] .colab-df-convert:hover {\n",
              "      background-color: #434B5C;\n",
              "      box-shadow: 0px 1px 3px 1px rgba(0, 0, 0, 0.15);\n",
              "      filter: drop-shadow(0px 1px 2px rgba(0, 0, 0, 0.3));\n",
              "      fill: #FFFFFF;\n",
              "    }\n",
              "  </style>\n",
              "\n",
              "      <script>\n",
              "        const buttonEl =\n",
              "          document.querySelector('#df-c5175349-09e5-4984-a503-2617de62a5fd button.colab-df-convert');\n",
              "        buttonEl.style.display =\n",
              "          google.colab.kernel.accessAllowed ? 'block' : 'none';\n",
              "\n",
              "        async function convertToInteractive(key) {\n",
              "          const element = document.querySelector('#df-c5175349-09e5-4984-a503-2617de62a5fd');\n",
              "          const dataTable =\n",
              "            await google.colab.kernel.invokeFunction('convertToInteractive',\n",
              "                                                     [key], {});\n",
              "          if (!dataTable) return;\n",
              "\n",
              "          const docLinkHtml = 'Like what you see? Visit the ' +\n",
              "            '<a target=\"_blank\" href=https://colab.research.google.com/notebooks/data_table.ipynb>data table notebook</a>'\n",
              "            + ' to learn more about interactive tables.';\n",
              "          element.innerHTML = '';\n",
              "          dataTable['output_type'] = 'display_data';\n",
              "          await google.colab.output.renderOutput(dataTable, element);\n",
              "          const docLink = document.createElement('div');\n",
              "          docLink.innerHTML = docLinkHtml;\n",
              "          element.appendChild(docLink);\n",
              "        }\n",
              "      </script>\n",
              "    </div>\n",
              "  </div>\n",
              "  "
            ]
          },
          "metadata": {},
          "execution_count": 22
        }
      ]
    },
    {
      "cell_type": "code",
      "source": [
        "df_gastroc = df_gastroc.rename(columns={'index': 'Treatment'})"
      ],
      "metadata": {
        "id": "be1ce4brVWrw"
      },
      "execution_count": 24,
      "outputs": []
    },
    {
      "cell_type": "code",
      "source": [
        "df_gastroc.head()"
      ],
      "metadata": {
        "colab": {
          "base_uri": "https://localhost:8080/",
          "height": 317
        },
        "id": "rJfKPm4iWmXi",
        "outputId": "80ea3367-99a5-4c64-e5a6-e0a7d9f83213"
      },
      "execution_count": 27,
      "outputs": [
        {
          "output_type": "execute_result",
          "data": {
            "text/plain": [
              "Unnamed: 0      Treatment LOC121821266 LOC102911281 LOC102926907 LOC121821617  \\\n",
              "0           LN.F1.113.2be            0            0            0            0   \n",
              "1            LN.F1.113.aa            0            0            0            0   \n",
              "2            LN.F1.113.ae            0            0            0            0   \n",
              "3            LN.F1.113.ag            0            0            0            1   \n",
              "4            LN.F1.113.ak            0            0            0            0   \n",
              "\n",
              "Unnamed: 0 LOC102925994 LOC102925679 LOC121821541 LOC102925362 LOC121821593  \\\n",
              "0                     3            0            3            3            0   \n",
              "1                     4            0            1            0            0   \n",
              "2                     3            0            1            2            0   \n",
              "3                     4            0            0            0            0   \n",
              "4                     7            0            0            3            1   \n",
              "\n",
              "Unnamed: 0  ... EI127_mgt17 EI127_mgt18 EI127_mgt19 EI127_mgp03 EI127_mgp02  \\\n",
              "0           ...         276         122          92        6169        5420   \n",
              "1           ...         371         207          81        7024        6495   \n",
              "2           ...         272         135          67        5841        5400   \n",
              "3           ...         495         230         116        9873        7522   \n",
              "4           ...         337         180          91        7773        6657   \n",
              "\n",
              "Unnamed: 0 EI127_mgt20 EI127_mgp01 EI127_mgt21 EI127_mgt22 Index  \n",
              "0                 2144       16304         173        1511     1  \n",
              "1                 1673       16561         142        1280     2  \n",
              "2                 1414       13018         103         955     3  \n",
              "3                 2011       21779         196        1599     4  \n",
              "4                 1650       16713         109        1130     5  \n",
              "\n",
              "[5 rows x 32831 columns]"
            ],
            "text/html": [
              "\n",
              "  <div id=\"df-8e401cf6-35f5-4c34-9a1e-8b2386858c50\">\n",
              "    <div class=\"colab-df-container\">\n",
              "      <div>\n",
              "<style scoped>\n",
              "    .dataframe tbody tr th:only-of-type {\n",
              "        vertical-align: middle;\n",
              "    }\n",
              "\n",
              "    .dataframe tbody tr th {\n",
              "        vertical-align: top;\n",
              "    }\n",
              "\n",
              "    .dataframe thead th {\n",
              "        text-align: right;\n",
              "    }\n",
              "</style>\n",
              "<table border=\"1\" class=\"dataframe\">\n",
              "  <thead>\n",
              "    <tr style=\"text-align: right;\">\n",
              "      <th>Unnamed: 0</th>\n",
              "      <th>Treatment</th>\n",
              "      <th>LOC121821266</th>\n",
              "      <th>LOC102911281</th>\n",
              "      <th>LOC102926907</th>\n",
              "      <th>LOC121821617</th>\n",
              "      <th>LOC102925994</th>\n",
              "      <th>LOC102925679</th>\n",
              "      <th>LOC121821541</th>\n",
              "      <th>LOC102925362</th>\n",
              "      <th>LOC121821593</th>\n",
              "      <th>...</th>\n",
              "      <th>EI127_mgt17</th>\n",
              "      <th>EI127_mgt18</th>\n",
              "      <th>EI127_mgt19</th>\n",
              "      <th>EI127_mgp03</th>\n",
              "      <th>EI127_mgp02</th>\n",
              "      <th>EI127_mgt20</th>\n",
              "      <th>EI127_mgp01</th>\n",
              "      <th>EI127_mgt21</th>\n",
              "      <th>EI127_mgt22</th>\n",
              "      <th>Index</th>\n",
              "    </tr>\n",
              "  </thead>\n",
              "  <tbody>\n",
              "    <tr>\n",
              "      <th>0</th>\n",
              "      <td>LN.F1.113.2be</td>\n",
              "      <td>0</td>\n",
              "      <td>0</td>\n",
              "      <td>0</td>\n",
              "      <td>0</td>\n",
              "      <td>3</td>\n",
              "      <td>0</td>\n",
              "      <td>3</td>\n",
              "      <td>3</td>\n",
              "      <td>0</td>\n",
              "      <td>...</td>\n",
              "      <td>276</td>\n",
              "      <td>122</td>\n",
              "      <td>92</td>\n",
              "      <td>6169</td>\n",
              "      <td>5420</td>\n",
              "      <td>2144</td>\n",
              "      <td>16304</td>\n",
              "      <td>173</td>\n",
              "      <td>1511</td>\n",
              "      <td>1</td>\n",
              "    </tr>\n",
              "    <tr>\n",
              "      <th>1</th>\n",
              "      <td>LN.F1.113.aa</td>\n",
              "      <td>0</td>\n",
              "      <td>0</td>\n",
              "      <td>0</td>\n",
              "      <td>0</td>\n",
              "      <td>4</td>\n",
              "      <td>0</td>\n",
              "      <td>1</td>\n",
              "      <td>0</td>\n",
              "      <td>0</td>\n",
              "      <td>...</td>\n",
              "      <td>371</td>\n",
              "      <td>207</td>\n",
              "      <td>81</td>\n",
              "      <td>7024</td>\n",
              "      <td>6495</td>\n",
              "      <td>1673</td>\n",
              "      <td>16561</td>\n",
              "      <td>142</td>\n",
              "      <td>1280</td>\n",
              "      <td>2</td>\n",
              "    </tr>\n",
              "    <tr>\n",
              "      <th>2</th>\n",
              "      <td>LN.F1.113.ae</td>\n",
              "      <td>0</td>\n",
              "      <td>0</td>\n",
              "      <td>0</td>\n",
              "      <td>0</td>\n",
              "      <td>3</td>\n",
              "      <td>0</td>\n",
              "      <td>1</td>\n",
              "      <td>2</td>\n",
              "      <td>0</td>\n",
              "      <td>...</td>\n",
              "      <td>272</td>\n",
              "      <td>135</td>\n",
              "      <td>67</td>\n",
              "      <td>5841</td>\n",
              "      <td>5400</td>\n",
              "      <td>1414</td>\n",
              "      <td>13018</td>\n",
              "      <td>103</td>\n",
              "      <td>955</td>\n",
              "      <td>3</td>\n",
              "    </tr>\n",
              "    <tr>\n",
              "      <th>3</th>\n",
              "      <td>LN.F1.113.ag</td>\n",
              "      <td>0</td>\n",
              "      <td>0</td>\n",
              "      <td>0</td>\n",
              "      <td>1</td>\n",
              "      <td>4</td>\n",
              "      <td>0</td>\n",
              "      <td>0</td>\n",
              "      <td>0</td>\n",
              "      <td>0</td>\n",
              "      <td>...</td>\n",
              "      <td>495</td>\n",
              "      <td>230</td>\n",
              "      <td>116</td>\n",
              "      <td>9873</td>\n",
              "      <td>7522</td>\n",
              "      <td>2011</td>\n",
              "      <td>21779</td>\n",
              "      <td>196</td>\n",
              "      <td>1599</td>\n",
              "      <td>4</td>\n",
              "    </tr>\n",
              "    <tr>\n",
              "      <th>4</th>\n",
              "      <td>LN.F1.113.ak</td>\n",
              "      <td>0</td>\n",
              "      <td>0</td>\n",
              "      <td>0</td>\n",
              "      <td>0</td>\n",
              "      <td>7</td>\n",
              "      <td>0</td>\n",
              "      <td>0</td>\n",
              "      <td>3</td>\n",
              "      <td>1</td>\n",
              "      <td>...</td>\n",
              "      <td>337</td>\n",
              "      <td>180</td>\n",
              "      <td>91</td>\n",
              "      <td>7773</td>\n",
              "      <td>6657</td>\n",
              "      <td>1650</td>\n",
              "      <td>16713</td>\n",
              "      <td>109</td>\n",
              "      <td>1130</td>\n",
              "      <td>5</td>\n",
              "    </tr>\n",
              "  </tbody>\n",
              "</table>\n",
              "<p>5 rows × 32831 columns</p>\n",
              "</div>\n",
              "      <button class=\"colab-df-convert\" onclick=\"convertToInteractive('df-8e401cf6-35f5-4c34-9a1e-8b2386858c50')\"\n",
              "              title=\"Convert this dataframe to an interactive table.\"\n",
              "              style=\"display:none;\">\n",
              "        \n",
              "  <svg xmlns=\"http://www.w3.org/2000/svg\" height=\"24px\"viewBox=\"0 0 24 24\"\n",
              "       width=\"24px\">\n",
              "    <path d=\"M0 0h24v24H0V0z\" fill=\"none\"/>\n",
              "    <path d=\"M18.56 5.44l.94 2.06.94-2.06 2.06-.94-2.06-.94-.94-2.06-.94 2.06-2.06.94zm-11 1L8.5 8.5l.94-2.06 2.06-.94-2.06-.94L8.5 2.5l-.94 2.06-2.06.94zm10 10l.94 2.06.94-2.06 2.06-.94-2.06-.94-.94-2.06-.94 2.06-2.06.94z\"/><path d=\"M17.41 7.96l-1.37-1.37c-.4-.4-.92-.59-1.43-.59-.52 0-1.04.2-1.43.59L10.3 9.45l-7.72 7.72c-.78.78-.78 2.05 0 2.83L4 21.41c.39.39.9.59 1.41.59.51 0 1.02-.2 1.41-.59l7.78-7.78 2.81-2.81c.8-.78.8-2.07 0-2.86zM5.41 20L4 18.59l7.72-7.72 1.47 1.35L5.41 20z\"/>\n",
              "  </svg>\n",
              "      </button>\n",
              "      \n",
              "  <style>\n",
              "    .colab-df-container {\n",
              "      display:flex;\n",
              "      flex-wrap:wrap;\n",
              "      gap: 12px;\n",
              "    }\n",
              "\n",
              "    .colab-df-convert {\n",
              "      background-color: #E8F0FE;\n",
              "      border: none;\n",
              "      border-radius: 50%;\n",
              "      cursor: pointer;\n",
              "      display: none;\n",
              "      fill: #1967D2;\n",
              "      height: 32px;\n",
              "      padding: 0 0 0 0;\n",
              "      width: 32px;\n",
              "    }\n",
              "\n",
              "    .colab-df-convert:hover {\n",
              "      background-color: #E2EBFA;\n",
              "      box-shadow: 0px 1px 2px rgba(60, 64, 67, 0.3), 0px 1px 3px 1px rgba(60, 64, 67, 0.15);\n",
              "      fill: #174EA6;\n",
              "    }\n",
              "\n",
              "    [theme=dark] .colab-df-convert {\n",
              "      background-color: #3B4455;\n",
              "      fill: #D2E3FC;\n",
              "    }\n",
              "\n",
              "    [theme=dark] .colab-df-convert:hover {\n",
              "      background-color: #434B5C;\n",
              "      box-shadow: 0px 1px 3px 1px rgba(0, 0, 0, 0.15);\n",
              "      filter: drop-shadow(0px 1px 2px rgba(0, 0, 0, 0.3));\n",
              "      fill: #FFFFFF;\n",
              "    }\n",
              "  </style>\n",
              "\n",
              "      <script>\n",
              "        const buttonEl =\n",
              "          document.querySelector('#df-8e401cf6-35f5-4c34-9a1e-8b2386858c50 button.colab-df-convert');\n",
              "        buttonEl.style.display =\n",
              "          google.colab.kernel.accessAllowed ? 'block' : 'none';\n",
              "\n",
              "        async function convertToInteractive(key) {\n",
              "          const element = document.querySelector('#df-8e401cf6-35f5-4c34-9a1e-8b2386858c50');\n",
              "          const dataTable =\n",
              "            await google.colab.kernel.invokeFunction('convertToInteractive',\n",
              "                                                     [key], {});\n",
              "          if (!dataTable) return;\n",
              "\n",
              "          const docLinkHtml = 'Like what you see? Visit the ' +\n",
              "            '<a target=\"_blank\" href=https://colab.research.google.com/notebooks/data_table.ipynb>data table notebook</a>'\n",
              "            + ' to learn more about interactive tables.';\n",
              "          element.innerHTML = '';\n",
              "          dataTable['output_type'] = 'display_data';\n",
              "          await google.colab.output.renderOutput(dataTable, element);\n",
              "          const docLink = document.createElement('div');\n",
              "          docLink.innerHTML = docLinkHtml;\n",
              "          element.appendChild(docLink);\n",
              "        }\n",
              "      </script>\n",
              "    </div>\n",
              "  </div>\n",
              "  "
            ]
          },
          "metadata": {},
          "execution_count": 27
        }
      ]
    },
    {
      "cell_type": "code",
      "source": [],
      "metadata": {
        "id": "IyUrRKjPWssY"
      },
      "execution_count": null,
      "outputs": []
    },
    {
      "cell_type": "code",
      "source": [],
      "metadata": {
        "id": "L5jSa_-LWsvu"
      },
      "execution_count": null,
      "outputs": []
    },
    {
      "cell_type": "code",
      "source": [],
      "metadata": {
        "id": "DVVC2w3iWs1k"
      },
      "execution_count": null,
      "outputs": []
    },
    {
      "cell_type": "code",
      "execution_count": null,
      "metadata": {
        "id": "3Z1qVc87QVIe"
      },
      "outputs": [],
      "source": [
        "\n",
        "X = df.drop(labels=['CustomerId', 'Surname', 'RowNumber', 'Exited'], axis = 1)\n",
        "y = df.Exited"
      ]
    },
    {
      "cell_type": "code",
      "execution_count": null,
      "metadata": {
        "id": "SNf39wpOQVIf"
      },
      "outputs": [],
      "source": [
        "X.info()"
      ]
    },
    {
      "cell_type": "code",
      "execution_count": null,
      "metadata": {
        "id": "yM0iJsvMQVIf"
      },
      "outputs": [],
      "source": [
        "# Using one hot encoding on geography and gender to convert categorial variables to numeric variables.\n",
        "X = pd.get_dummies(X, columns=['Geography', 'Gender'])"
      ]
    },
    {
      "cell_type": "code",
      "execution_count": null,
      "metadata": {
        "id": "4ZFE7nGDQVIf"
      },
      "outputs": [],
      "source": [
        "# Checking to see how the data is spread amongst the feature subcategories:\n",
        "# **the floats data type was not counted since each value has a count of 1 (generally)\n",
        "for i in list(X.columns[X.dtypes=='int64']):  \n",
        "    print(i)\n",
        "    print(X[i].value_counts().sort_index().head())\n",
        "    print()"
      ]
    },
    {
      "cell_type": "code",
      "execution_count": null,
      "metadata": {
        "id": "zjBMWeMyQVIf"
      },
      "outputs": [],
      "source": [
        "for i in list(X.columns[X.dtypes=='uint8']):  \n",
        "    print(i)\n",
        "    print(X[i].value_counts().sort_index().head())\n",
        "    print()"
      ]
    },
    {
      "cell_type": "code",
      "execution_count": null,
      "metadata": {
        "id": "3eFSkLRkQVIf"
      },
      "outputs": [],
      "source": [
        "sns.pairplot(data = df_copy)"
      ]
    },
    {
      "cell_type": "code",
      "execution_count": null,
      "metadata": {
        "id": "JqhP0vTuQVIf"
      },
      "outputs": [],
      "source": [
        "plt.subplots(figsize=(20,15))\n",
        "sns.heatmap(df_copy.corr(),annot=True,square=True)"
      ]
    },
    {
      "cell_type": "markdown",
      "metadata": {
        "id": "uXkRd5OWQVIf"
      },
      "source": [
        "# Insights from Pairplot and Correlation Matrix:\n",
        "\n",
        "- No noticable correlations were observed in the pairplot.\n",
        "\n",
        "- Age seems to be positively related to Exited status.\n",
        "\n",
        "- The number of products a person has seems to be negatively related to their balance.\n",
        "\n",
        "- Most other relationships were very small."
      ]
    },
    {
      "cell_type": "code",
      "execution_count": null,
      "metadata": {
        "id": "SDUpQY8qQVIf"
      },
      "outputs": [],
      "source": [
        "fig = sns.FacetGrid(df,hue='Exited',aspect=4)\n",
        "fig.map(sns.kdeplot,'Age',shade=True)\n",
        "fig.add_legend()"
      ]
    },
    {
      "cell_type": "code",
      "execution_count": null,
      "metadata": {
        "id": "2e1LcGcWQVIg"
      },
      "outputs": [],
      "source": [
        "fig = sns.FacetGrid(df,hue='Exited',aspect=4)\n",
        "fig.map(sns.kdeplot,'CreditScore',shade=True)\n",
        "fig.add_legend()"
      ]
    },
    {
      "cell_type": "code",
      "execution_count": null,
      "metadata": {
        "id": "STGygXVaQVIg"
      },
      "outputs": [],
      "source": [
        "fig = sns.FacetGrid(df,hue='Exited',aspect=4)\n",
        "fig.map(sns.kdeplot,'Tenure',shade=True)\n",
        "fig.add_legend()"
      ]
    },
    {
      "cell_type": "code",
      "execution_count": null,
      "metadata": {
        "id": "FzznE0X0QVIg"
      },
      "outputs": [],
      "source": [
        "sns.set(rc={'figure.figsize':(20,6)})\n",
        "sns.countplot(x = df_copy['NumOfProducts'], data=df_copy, hue=df_copy['Exited'])\n",
        "plt.title('Count Plot of \"Number of Products\" for both exit conditions')"
      ]
    },
    {
      "cell_type": "code",
      "execution_count": null,
      "metadata": {
        "id": "npEBQnXeQVIg"
      },
      "outputs": [],
      "source": [
        "sns.set(rc={'figure.figsize':(20,6)})\n",
        "sns.countplot(x = df_copy['HasCrCard'], data=df_copy, hue=df_copy['Exited'])\n",
        "plt.title('Count Plot of \"Has Credit Card\" for both exit conditions')"
      ]
    },
    {
      "cell_type": "code",
      "execution_count": null,
      "metadata": {
        "id": "L5_NTajZQVIg"
      },
      "outputs": [],
      "source": [
        "sns.set(rc={'figure.figsize':(20,6)})\n",
        "sns.countplot(x = df_copy['IsActiveMember'], data=df_copy, hue=df_copy['Exited'])\n",
        "plt.title('Count Plot of \"Is an Active Member\" for both exit conditions')"
      ]
    },
    {
      "cell_type": "code",
      "execution_count": null,
      "metadata": {
        "id": "rpzROCbHQVIg"
      },
      "outputs": [],
      "source": [
        "sns.set(rc={'figure.figsize':(20,6)})\n",
        "sns.countplot(x = df_copy['Geography'], data=df_copy, hue=df_copy['Exited'])\n",
        "plt.title('Count Plot of exit condition per country')"
      ]
    },
    {
      "cell_type": "code",
      "execution_count": null,
      "metadata": {
        "id": "wxaQT_tBQVIg"
      },
      "outputs": [],
      "source": [
        "sns.set(rc={'figure.figsize':(20,6)})\n",
        "sns.countplot(x = df_copy['Gender'], data=df_copy, hue=df_copy['Exited'])\n",
        "plt.title('Count Plot of exit condition for females and males')"
      ]
    },
    {
      "cell_type": "markdown",
      "metadata": {
        "id": "3gLDPbNZQVIh"
      },
      "source": [
        "# Insights from bivariate analysis:\n",
        "\n",
        "- There was now significant difference between the credit scores of those who exited the bank and those who did not.\n",
        "\n",
        "- There is not significant difference between the tenure of those who exited the bank and those who did not.\n",
        "\n",
        "- The age of those who did not exit the bank was older than the age of those who did exit the bank.  In particular, those in their late 40s seemed very likely not to have exited the bank.\n",
        "\n",
        "- The likelihood someone would leave the bank decreased with increasing number of products the person has.  Having 1 product with the bank contained the highest likelihood someone would leave the bank, followed by 2, 3, and then 4.\n",
        "\n",
        "- The likelihood someone would leave the bank if they had a credit card through the bank was roughly equal to those who did not have a credit card with the bank.\n",
        "\n",
        "- Those customers from Germany were the most likely out of the three countries surveyed to leave the bank.  \n",
        "\n",
        "- Women were more likely to leave the bank than men."
      ]
    },
    {
      "cell_type": "code",
      "execution_count": null,
      "metadata": {
        "id": "RPWarPYIQVIh"
      },
      "outputs": [],
      "source": [
        "_, ax = plt.subplots(1, 3, figsize=(18, 6))\n",
        "plt.subplots_adjust(wspace=0.3)\n",
        "sns.swarmplot(x = \"NumOfProducts\", y = \"Age\", hue=\"Exited\", data = df_copy, ax= ax[0])\n",
        "sns.swarmplot(x = \"HasCrCard\", y = \"Age\", data = df_copy, hue=\"Exited\", ax = ax[1])\n",
        "sns.swarmplot(x = \"IsActiveMember\", y = \"Age\", hue=\"Exited\", data = df_copy, ax = ax[2])"
      ]
    },
    {
      "cell_type": "markdown",
      "metadata": {
        "id": "LuqxB1fHQVIh"
      },
      "source": [
        "# 4. Distinguishing the feature and target set and dividing the data into training and test sets:"
      ]
    },
    {
      "cell_type": "code",
      "execution_count": null,
      "metadata": {
        "id": "zDVXi2urQVIh"
      },
      "outputs": [],
      "source": [
        "X_train, X_test, y_train, y_test = train_test_split(X, y, test_size=0.20, random_state = 42, stratify = y)"
      ]
    },
    {
      "cell_type": "code",
      "execution_count": null,
      "metadata": {
        "id": "WGapw_gkQVIh"
      },
      "outputs": [],
      "source": [
        "X.head()"
      ]
    },
    {
      "cell_type": "markdown",
      "metadata": {
        "id": "t_KQVl2oQVIh"
      },
      "source": [
        "# 5. Normalizing the training and testing data:"
      ]
    },
    {
      "cell_type": "code",
      "execution_count": null,
      "metadata": {
        "id": "1sM1F2yiQVIh"
      },
      "outputs": [],
      "source": [
        "scaler = StandardScaler()\n",
        "X_train = scaler.fit_transform(X_train)\n",
        "X_test = scaler.transform(X_test)"
      ]
    },
    {
      "cell_type": "markdown",
      "metadata": {
        "id": "IWycWsT7QVIh"
      },
      "source": [
        "# 6. Initialize and build the model.  Identify the points of improvement and implement the same, \n",
        "\n",
        "# 7. Predict the results using a 0.5 threshold, and\n",
        "\n",
        "# 8. Print the accuracy score and confusion matrix."
      ]
    },
    {
      "cell_type": "markdown",
      "metadata": {
        "id": "mlDVPNwnQVIh"
      },
      "source": [
        "** I assumed that by \"points of improvement\" the intent is to test different parameters and hyperparameters to see what produces the most accurate model.  Therefore, I created 3 different models with varying sets of parameters to see how they effect the accuracy score of the model.  I will keep the output layer set to 1 node, with a sigmoid activation function, since this will give the predictions as well as probabilities.  A 1 node output layer is utilized since the classification is binary."
      ]
    },
    {
      "cell_type": "code",
      "execution_count": null,
      "metadata": {
        "id": "FIqP8fXAQVIi"
      },
      "outputs": [],
      "source": [
        "# Model#1\n",
        "# Input layer: 32 nodes\n",
        "# Hidden layer 1: 64 nodes\n",
        "# Optimizer: Adam\n",
        "# Loss: Binary Crossentropy\n",
        "# Metrics: Accuracy\n",
        "# Epochs: 10\n",
        "# Batch size: 10"
      ]
    },
    {
      "cell_type": "code",
      "execution_count": null,
      "metadata": {
        "id": "9aphqggJQVIi"
      },
      "outputs": [],
      "source": [
        "# Initializing the ANN\n",
        "model = Sequential()\n",
        "\n",
        "# Adding the input layers and hidden layers:\n",
        "model.add(Dense(32, activation='relu'))\n",
        "model.add(Dense(64, activation='relu'))\n",
        "\n",
        "# Adding the output layer:\n",
        "model.add(Dense(1, activation = 'sigmoid'))\n",
        "\n",
        "# Compiling the ANN:\n",
        "model.compile(optimizer='adam', loss = 'binary_crossentropy', metrics=['accuracy'])\n",
        "\n",
        "# Training the ANN:\n",
        "model.fit(X_train, y_train.to_numpy(), epochs = 10, batch_size = 10, verbose=1) "
      ]
    },
    {
      "cell_type": "code",
      "execution_count": null,
      "metadata": {
        "id": "Bu9qEQ0dQVIi"
      },
      "outputs": [],
      "source": [
        "# Making predictions:\n",
        "y_pred = model.predict_classes(X_test)\n",
        "model.evaluate(X_test, y_test.to_numpy())"
      ]
    },
    {
      "cell_type": "code",
      "execution_count": null,
      "metadata": {
        "id": "ZlkoWKv8QVIi"
      },
      "outputs": [],
      "source": [
        "# Predictions of the response variable (whether or not the customer will exit the bank)\n",
        "y_pred"
      ]
    },
    {
      "cell_type": "code",
      "execution_count": null,
      "metadata": {
        "id": "GB7uzSprQVIi"
      },
      "outputs": [],
      "source": [
        "# Evaluating the model:\n",
        "confusion_matrix(y_test, y_pred)"
      ]
    },
    {
      "cell_type": "code",
      "execution_count": null,
      "metadata": {
        "id": "C_xUXaWEQVIi"
      },
      "outputs": [],
      "source": [
        "accuracy_score(y_test, y_pred)"
      ]
    },
    {
      "cell_type": "code",
      "execution_count": null,
      "metadata": {
        "id": "J-mxIfP3QVIi"
      },
      "outputs": [],
      "source": []
    },
    {
      "cell_type": "code",
      "execution_count": null,
      "metadata": {
        "id": "kzp7WsrPQVIi"
      },
      "outputs": [],
      "source": [
        "# Model#2 - more nodes\n",
        "# Input layer: 50 nodes\n",
        "# Hidden layer 1: 500 nodes\n",
        "# Optimizer: Adam\n",
        "# Loss: Binary Crossentropy\n",
        "# Metrics: Accuracy\n",
        "# Epochs: 10\n",
        "# Batch size: 10"
      ]
    },
    {
      "cell_type": "code",
      "execution_count": null,
      "metadata": {
        "id": "pD12uS6XQVIi"
      },
      "outputs": [],
      "source": [
        "model = Sequential()\n",
        "model.add(Dense(50, activation='relu'))\n",
        "model.add(Dense(500, activation='relu'))\n",
        "model.add(Dense(1, activation = 'sigmoid'))\n",
        "model.compile(optimizer='adam', loss = 'binary_crossentropy', metrics=['accuracy'])\n",
        "model.fit(X_train, y_train.to_numpy(), epochs = 10, batch_size = 10, verbose=1) "
      ]
    },
    {
      "cell_type": "code",
      "execution_count": null,
      "metadata": {
        "id": "k740nykSQVIi"
      },
      "outputs": [],
      "source": [
        "y_pred = model.predict_classes(X_test)\n",
        "model.evaluate(X_test, y_test.to_numpy())"
      ]
    },
    {
      "cell_type": "code",
      "execution_count": null,
      "metadata": {
        "id": "2nH_vjHWQVIi"
      },
      "outputs": [],
      "source": [
        "y_pred"
      ]
    },
    {
      "cell_type": "code",
      "execution_count": null,
      "metadata": {
        "id": "3BqlA6gzQVIi"
      },
      "outputs": [],
      "source": [
        "confusion_matrix(y_test, y_pred)"
      ]
    },
    {
      "cell_type": "code",
      "execution_count": null,
      "metadata": {
        "id": "3Zr742OmQVIj"
      },
      "outputs": [],
      "source": [
        "accuracy_score(y_test, y_pred)"
      ]
    },
    {
      "cell_type": "code",
      "execution_count": null,
      "metadata": {
        "id": "qZ5DNi8LQVIj"
      },
      "outputs": [],
      "source": [
        "# Model#3 - larger batch size\n",
        "# Input layer: 32 nodes\n",
        "# Hidden layer 1: 64 nodes\n",
        "# Optimizer: Adam\n",
        "# Loss: Binary Crossentropy\n",
        "# Metrics: Accuracy\n",
        "# Epochs: 10\n",
        "# Batch size: 500"
      ]
    },
    {
      "cell_type": "code",
      "execution_count": null,
      "metadata": {
        "id": "cP5LYqlIQVIj"
      },
      "outputs": [],
      "source": [
        "model = Sequential()\n",
        "model.add(Dense(32, activation='relu'))\n",
        "model.add(Dense(64, activation='relu'))\n",
        "model.add(Dense(1, activation = 'sigmoid'))\n",
        "model.compile(optimizer='adam', loss = 'binary_crossentropy', metrics=['accuracy'])\n",
        "model.fit(X_train, y_train.to_numpy(), epochs = 10, batch_size = 500, verbose=1) "
      ]
    },
    {
      "cell_type": "code",
      "execution_count": null,
      "metadata": {
        "id": "yCXrRZ0-QVIj"
      },
      "outputs": [],
      "source": [
        "y_pred = model.predict_classes(X_test)\n",
        "model.evaluate(X_test, y_test.to_numpy())"
      ]
    },
    {
      "cell_type": "code",
      "execution_count": null,
      "metadata": {
        "id": "186PUJlVQVIj"
      },
      "outputs": [],
      "source": [
        "y_pred"
      ]
    },
    {
      "cell_type": "code",
      "execution_count": null,
      "metadata": {
        "id": "QZkV1QapQVIj"
      },
      "outputs": [],
      "source": [
        "confusion_matrix(y_test, y_pred)"
      ]
    },
    {
      "cell_type": "code",
      "execution_count": null,
      "metadata": {
        "id": "29EKDcNLQVIj"
      },
      "outputs": [],
      "source": [
        "accuracy_score(y_test, y_pred)"
      ]
    },
    {
      "cell_type": "code",
      "execution_count": null,
      "metadata": {
        "id": "QiTSipzcQVIj"
      },
      "outputs": [],
      "source": []
    },
    {
      "cell_type": "code",
      "execution_count": null,
      "metadata": {
        "id": "tMA31ExiQVIj"
      },
      "outputs": [],
      "source": [
        "# Model#4 - More epochs\n",
        "# Input layer: 32 nodes\n",
        "# Hidden layer 1: 64 nodes\n",
        "# Optimizer: Adam\n",
        "# Loss: Binary Crossentropy\n",
        "# Metrics: Accuracy\n",
        "# Epochs: 100\n",
        "# Batch size: 10"
      ]
    },
    {
      "cell_type": "code",
      "execution_count": null,
      "metadata": {
        "id": "zza3u45bQVIj"
      },
      "outputs": [],
      "source": [
        "model = Sequential()\n",
        "model.add(Dense(32, activation='relu'))\n",
        "model.add(Dense(64, activation='relu'))\n",
        "model.add(Dense(1, activation = 'sigmoid'))\n",
        "model.compile(optimizer='adam', loss = 'binary_crossentropy', metrics=['accuracy'])\n",
        "model.fit(X_train, y_train.to_numpy(), epochs = 100, batch_size = 10, verbose=1) "
      ]
    },
    {
      "cell_type": "code",
      "execution_count": null,
      "metadata": {
        "id": "wK_lyCFRQVIj"
      },
      "outputs": [],
      "source": [
        "y_pred = model.predict_classes(X_test)\n",
        "model.evaluate(X_test, y_test.to_numpy())"
      ]
    },
    {
      "cell_type": "code",
      "execution_count": null,
      "metadata": {
        "id": "xJ-nkoXLQVIj"
      },
      "outputs": [],
      "source": [
        "y_pred"
      ]
    },
    {
      "cell_type": "code",
      "execution_count": null,
      "metadata": {
        "id": "iNi1qwpIQVIj"
      },
      "outputs": [],
      "source": [
        "confusion_matrix(y_test, y_pred)"
      ]
    },
    {
      "cell_type": "code",
      "execution_count": null,
      "metadata": {
        "id": "DY_2DZ-VQVIj"
      },
      "outputs": [],
      "source": [
        "accuracy_score(y_test, y_pred)"
      ]
    },
    {
      "cell_type": "markdown",
      "metadata": {
        "id": "tQhw8HekQVIk"
      },
      "source": [
        "# Insights derived from altering model hyperparameters:\n",
        "\n",
        "- A smaller batch size produced more accurate results, but took longer to run.\n",
        "\n",
        "- Adding more nodes in the hidden layers did not seem to improve the accuracy of the model.\n",
        "\n",
        "- Increasing the number of epochs decreased the accuracy.\n",
        "\n",
        "- My best model was number one:\n",
        " \n",
        " Model#1\n",
        " \n",
        " Input layer: 32 nodes\n",
        " \n",
        " Hidden layer 1: 64 nodes\n",
        " \n",
        " Optimizer: Adam\n",
        " \n",
        " Loss: Binary Crossentropy\n",
        " \n",
        " Metrics: Accuracy\n",
        " \n",
        " Epochs: 10\n",
        " \n",
        " Batch size: 10\n",
        " \n",
        "True negatives: 1514 (Those who my model predicted would not exit, who did not actually exit)\n",
        "\n",
        "False negatives: 79 (Those who my model predicted would exit, but who did not actually exit)\n",
        "\n",
        "False positive: 200 (Those who my model predicted would not exit, but who did actually exit)\n",
        "\n",
        "True positives: 207 (Those who my model predicted would exit the bank, who did actually exit the bank)\n",
        "\n",
        " accuracy of model: 86%"
      ]
    },
    {
      "cell_type": "code",
      "execution_count": null,
      "metadata": {
        "id": "p6ptNCWdQVIk"
      },
      "outputs": [],
      "source": []
    }
  ],
  "metadata": {
    "kernelspec": {
      "display_name": "Python 3 (ipykernel)",
      "language": "python",
      "name": "python3"
    },
    "language_info": {
      "codemirror_mode": {
        "name": "ipython",
        "version": 3
      },
      "file_extension": ".py",
      "mimetype": "text/x-python",
      "name": "python",
      "nbconvert_exporter": "python",
      "pygments_lexer": "ipython3",
      "version": "3.9.7"
    },
    "colab": {
      "provenance": [],
      "collapsed_sections": [
        "uXkRd5OWQVIf",
        "3gLDPbNZQVIh",
        "LuqxB1fHQVIh",
        "t_KQVl2oQVIh",
        "IWycWsT7QVIh",
        "tQhw8HekQVIk"
      ],
      "include_colab_link": true
    }
  },
  "nbformat": 4,
  "nbformat_minor": 0
}