{
  "cells": [
    {
      "cell_type": "markdown",
      "metadata": {
        "id": "view-in-github",
        "colab_type": "text"
      },
      "source": [
        "<a href=\"https://colab.research.google.com/github/lacey-conrad/WGCNA-work/blob/main/Gene_exp_baseNN.ipynb\" target=\"_parent\"><img src=\"https://colab.research.google.com/assets/colab-badge.svg\" alt=\"Open In Colab\"/></a>"
      ]
    },
    {
      "cell_type": "code",
      "execution_count": 1,
      "metadata": {
        "id": "MErwVCZPQVIa"
      },
      "outputs": [],
      "source": [
        "import numpy as np\n",
        "import pandas as pd\n",
        "import matplotlib.pyplot as plt \n",
        "import seaborn as sns\n",
        "\n",
        "\n",
        "from sklearn.preprocessing import StandardScaler\n",
        "from sklearn.preprocessing import LabelEncoder\n",
        "\n",
        "from sklearn.model_selection import train_test_split\n",
        "\n",
        "\n",
        "from sklearn import metrics\n",
        "from sklearn.metrics import confusion_matrix, accuracy_score\n",
        "\n",
        "import tensorflow as tf\n",
        "from tensorflow import keras\n",
        "\n",
        "from tensorflow.keras import Sequential\n",
        "from tensorflow.keras.layers import Dense\n",
        "from tensorflow.keras.layers import LeakyReLU\n",
        "\n",
        "from sklearn.decomposition import PCA  # to apply PCA"
      ]
    },
    {
      "cell_type": "markdown",
      "metadata": {
        "id": "W48SsE3TQVIc"
      },
      "source": [
        "# 1. Reading in the dataset:\n",
        "\n"
      ]
    },
    {
      "cell_type": "code",
      "source": [
        "df_gastroc = pd.read_csv('gastroc_raw_counts.csv')"
      ],
      "metadata": {
        "id": "GvUM9wlORPTn"
      },
      "execution_count": 2,
      "outputs": []
    },
    {
      "cell_type": "code",
      "execution_count": 3,
      "metadata": {
        "id": "w5eWfpxjQVId"
      },
      "outputs": [],
      "source": [
        "#df_copy = df.copy()"
      ]
    },
    {
      "cell_type": "markdown",
      "source": [
        "# 2. Data preprocessing:"
      ],
      "metadata": {
        "id": "Qi_F_WYJVeOJ"
      }
    },
    {
      "cell_type": "code",
      "source": [
        "df_gastroc['Row_Mean'] = df_gastroc.mean(axis=1)"
      ],
      "metadata": {
        "colab": {
          "base_uri": "https://localhost:8080/"
        },
        "id": "YzgBti14cPCJ",
        "outputId": "0d8614ec-e6ff-4423-f330-26f5342c0687"
      },
      "execution_count": 4,
      "outputs": [
        {
          "output_type": "stream",
          "name": "stderr",
          "text": [
            "/usr/local/lib/python3.7/dist-packages/ipykernel_launcher.py:1: FutureWarning: Dropping of nuisance columns in DataFrame reductions (with 'numeric_only=None') is deprecated; in a future version this will raise TypeError.  Select only valid columns before calling the reduction.\n",
            "  \"\"\"Entry point for launching an IPython kernel.\n"
          ]
        }
      ]
    },
    {
      "cell_type": "code",
      "source": [
        "df_gastroc = df_gastroc[df_gastroc.Row_Mean >= 10]"
      ],
      "metadata": {
        "id": "rOP-2jB8cxTn"
      },
      "execution_count": 5,
      "outputs": []
    },
    {
      "cell_type": "code",
      "source": [
        "# Keep!!!\n",
        "df_gastroc.drop(\"Row_Mean\", axis=1, inplace=True)"
      ],
      "metadata": {
        "id": "3k0FAaqhbfj3",
        "colab": {
          "base_uri": "https://localhost:8080/"
        },
        "outputId": "2c82a4bb-c4a6-40b6-8051-42385ca5b182"
      },
      "execution_count": 6,
      "outputs": [
        {
          "output_type": "stream",
          "name": "stderr",
          "text": [
            "/usr/local/lib/python3.7/dist-packages/pandas/core/frame.py:4913: SettingWithCopyWarning: \n",
            "A value is trying to be set on a copy of a slice from a DataFrame\n",
            "\n",
            "See the caveats in the documentation: https://pandas.pydata.org/pandas-docs/stable/user_guide/indexing.html#returning-a-view-versus-a-copy\n",
            "  errors=errors,\n"
          ]
        }
      ]
    },
    {
      "cell_type": "code",
      "source": [
        "df_gastroc = df_gastroc.T"
      ],
      "metadata": {
        "id": "fsJQAXjMSlrf"
      },
      "execution_count": 7,
      "outputs": []
    },
    {
      "cell_type": "code",
      "source": [
        "df_gastroc.columns = df_gastroc.iloc[0]"
      ],
      "metadata": {
        "id": "zUx4Pnb7TO_1"
      },
      "execution_count": 8,
      "outputs": []
    },
    {
      "cell_type": "code",
      "source": [
        "df_gastroc = df_gastroc.iloc[1: , :]"
      ],
      "metadata": {
        "id": "YU2AS3ioTc4s"
      },
      "execution_count": 9,
      "outputs": []
    },
    {
      "cell_type": "code",
      "source": [
        "df_gastroc = df_gastroc.reset_index()"
      ],
      "metadata": {
        "id": "fWvx-WJ-V6S-"
      },
      "execution_count": 10,
      "outputs": []
    },
    {
      "cell_type": "code",
      "source": [
        "df_gastroc = df_gastroc.rename(columns={'index': 'Treatment'})"
      ],
      "metadata": {
        "id": "be1ce4brVWrw"
      },
      "execution_count": 11,
      "outputs": []
    },
    {
      "cell_type": "code",
      "source": [
        "df_gastroc['Treatment'] = df_gastroc['Treatment'].str.split('.').str[0]"
      ],
      "metadata": {
        "id": "IyUrRKjPWssY"
      },
      "execution_count": 12,
      "outputs": []
    },
    {
      "cell_type": "code",
      "source": [
        "cleanup_nums = {\"Treatment\": {\"LN\": 0, \"ME\": 1}}"
      ],
      "metadata": {
        "id": "DVVC2w3iWs1k"
      },
      "execution_count": 13,
      "outputs": []
    },
    {
      "cell_type": "code",
      "source": [
        "# Organization of df complete with this .head()\n",
        "df_gastroc = df_gastroc.replace(cleanup_nums)\n",
        "df_gastroc.head()"
      ],
      "metadata": {
        "colab": {
          "base_uri": "https://localhost:8080/",
          "height": 317
        },
        "id": "EObhEld7efoR",
        "outputId": "6f080bdb-74d6-4622-eea2-b6d6ba2ac11c"
      },
      "execution_count": 14,
      "outputs": [
        {
          "output_type": "execute_result",
          "data": {
            "text/plain": [
              "Unnamed: 0  Treatment LOC102903073 LOC102904318 Ppp2r1a LOC102906476  \\\n",
              "0                   0           10           27     336          384   \n",
              "1                   0           12           35     264          340   \n",
              "2                   0            5           21     175          407   \n",
              "3                   0            6           25     298          446   \n",
              "4                   0            7           25     425          526   \n",
              "\n",
              "Unnamed: 0 LOC102922856 LOC102912116 Ppp4r2 Myadm LOC107402623  ...  \\\n",
              "0                     6           13     33    83           23  ...   \n",
              "1                    13            7     51    36           39  ...   \n",
              "2                    21           10     43    43           30  ...   \n",
              "3                    21           16     54    61           23  ...   \n",
              "4                    17           19     58   132           51  ...   \n",
              "\n",
              "Unnamed: 0 EI127_mgp04 EI127_mgt17 EI127_mgt18 EI127_mgt19 EI127_mgp03  \\\n",
              "0                11886         276         122          92        6169   \n",
              "1                12638         371         207          81        7024   \n",
              "2                 9748         272         135          67        5841   \n",
              "3                16001         495         230         116        9873   \n",
              "4                13241         337         180          91        7773   \n",
              "\n",
              "Unnamed: 0 EI127_mgp02 EI127_mgt20 EI127_mgp01 EI127_mgt21 EI127_mgt22  \n",
              "0                 5420        2144       16304         173        1511  \n",
              "1                 6495        1673       16561         142        1280  \n",
              "2                 5400        1414       13018         103         955  \n",
              "3                 7522        2011       21779         196        1599  \n",
              "4                 6657        1650       16713         109        1130  \n",
              "\n",
              "[5 rows x 9424 columns]"
            ],
            "text/html": [
              "\n",
              "  <div id=\"df-989a4538-d8cf-4158-93a5-879c8e3f1537\">\n",
              "    <div class=\"colab-df-container\">\n",
              "      <div>\n",
              "<style scoped>\n",
              "    .dataframe tbody tr th:only-of-type {\n",
              "        vertical-align: middle;\n",
              "    }\n",
              "\n",
              "    .dataframe tbody tr th {\n",
              "        vertical-align: top;\n",
              "    }\n",
              "\n",
              "    .dataframe thead th {\n",
              "        text-align: right;\n",
              "    }\n",
              "</style>\n",
              "<table border=\"1\" class=\"dataframe\">\n",
              "  <thead>\n",
              "    <tr style=\"text-align: right;\">\n",
              "      <th>Unnamed: 0</th>\n",
              "      <th>Treatment</th>\n",
              "      <th>LOC102903073</th>\n",
              "      <th>LOC102904318</th>\n",
              "      <th>Ppp2r1a</th>\n",
              "      <th>LOC102906476</th>\n",
              "      <th>LOC102922856</th>\n",
              "      <th>LOC102912116</th>\n",
              "      <th>Ppp4r2</th>\n",
              "      <th>Myadm</th>\n",
              "      <th>LOC107402623</th>\n",
              "      <th>...</th>\n",
              "      <th>EI127_mgp04</th>\n",
              "      <th>EI127_mgt17</th>\n",
              "      <th>EI127_mgt18</th>\n",
              "      <th>EI127_mgt19</th>\n",
              "      <th>EI127_mgp03</th>\n",
              "      <th>EI127_mgp02</th>\n",
              "      <th>EI127_mgt20</th>\n",
              "      <th>EI127_mgp01</th>\n",
              "      <th>EI127_mgt21</th>\n",
              "      <th>EI127_mgt22</th>\n",
              "    </tr>\n",
              "  </thead>\n",
              "  <tbody>\n",
              "    <tr>\n",
              "      <th>0</th>\n",
              "      <td>0</td>\n",
              "      <td>10</td>\n",
              "      <td>27</td>\n",
              "      <td>336</td>\n",
              "      <td>384</td>\n",
              "      <td>6</td>\n",
              "      <td>13</td>\n",
              "      <td>33</td>\n",
              "      <td>83</td>\n",
              "      <td>23</td>\n",
              "      <td>...</td>\n",
              "      <td>11886</td>\n",
              "      <td>276</td>\n",
              "      <td>122</td>\n",
              "      <td>92</td>\n",
              "      <td>6169</td>\n",
              "      <td>5420</td>\n",
              "      <td>2144</td>\n",
              "      <td>16304</td>\n",
              "      <td>173</td>\n",
              "      <td>1511</td>\n",
              "    </tr>\n",
              "    <tr>\n",
              "      <th>1</th>\n",
              "      <td>0</td>\n",
              "      <td>12</td>\n",
              "      <td>35</td>\n",
              "      <td>264</td>\n",
              "      <td>340</td>\n",
              "      <td>13</td>\n",
              "      <td>7</td>\n",
              "      <td>51</td>\n",
              "      <td>36</td>\n",
              "      <td>39</td>\n",
              "      <td>...</td>\n",
              "      <td>12638</td>\n",
              "      <td>371</td>\n",
              "      <td>207</td>\n",
              "      <td>81</td>\n",
              "      <td>7024</td>\n",
              "      <td>6495</td>\n",
              "      <td>1673</td>\n",
              "      <td>16561</td>\n",
              "      <td>142</td>\n",
              "      <td>1280</td>\n",
              "    </tr>\n",
              "    <tr>\n",
              "      <th>2</th>\n",
              "      <td>0</td>\n",
              "      <td>5</td>\n",
              "      <td>21</td>\n",
              "      <td>175</td>\n",
              "      <td>407</td>\n",
              "      <td>21</td>\n",
              "      <td>10</td>\n",
              "      <td>43</td>\n",
              "      <td>43</td>\n",
              "      <td>30</td>\n",
              "      <td>...</td>\n",
              "      <td>9748</td>\n",
              "      <td>272</td>\n",
              "      <td>135</td>\n",
              "      <td>67</td>\n",
              "      <td>5841</td>\n",
              "      <td>5400</td>\n",
              "      <td>1414</td>\n",
              "      <td>13018</td>\n",
              "      <td>103</td>\n",
              "      <td>955</td>\n",
              "    </tr>\n",
              "    <tr>\n",
              "      <th>3</th>\n",
              "      <td>0</td>\n",
              "      <td>6</td>\n",
              "      <td>25</td>\n",
              "      <td>298</td>\n",
              "      <td>446</td>\n",
              "      <td>21</td>\n",
              "      <td>16</td>\n",
              "      <td>54</td>\n",
              "      <td>61</td>\n",
              "      <td>23</td>\n",
              "      <td>...</td>\n",
              "      <td>16001</td>\n",
              "      <td>495</td>\n",
              "      <td>230</td>\n",
              "      <td>116</td>\n",
              "      <td>9873</td>\n",
              "      <td>7522</td>\n",
              "      <td>2011</td>\n",
              "      <td>21779</td>\n",
              "      <td>196</td>\n",
              "      <td>1599</td>\n",
              "    </tr>\n",
              "    <tr>\n",
              "      <th>4</th>\n",
              "      <td>0</td>\n",
              "      <td>7</td>\n",
              "      <td>25</td>\n",
              "      <td>425</td>\n",
              "      <td>526</td>\n",
              "      <td>17</td>\n",
              "      <td>19</td>\n",
              "      <td>58</td>\n",
              "      <td>132</td>\n",
              "      <td>51</td>\n",
              "      <td>...</td>\n",
              "      <td>13241</td>\n",
              "      <td>337</td>\n",
              "      <td>180</td>\n",
              "      <td>91</td>\n",
              "      <td>7773</td>\n",
              "      <td>6657</td>\n",
              "      <td>1650</td>\n",
              "      <td>16713</td>\n",
              "      <td>109</td>\n",
              "      <td>1130</td>\n",
              "    </tr>\n",
              "  </tbody>\n",
              "</table>\n",
              "<p>5 rows × 9424 columns</p>\n",
              "</div>\n",
              "      <button class=\"colab-df-convert\" onclick=\"convertToInteractive('df-989a4538-d8cf-4158-93a5-879c8e3f1537')\"\n",
              "              title=\"Convert this dataframe to an interactive table.\"\n",
              "              style=\"display:none;\">\n",
              "        \n",
              "  <svg xmlns=\"http://www.w3.org/2000/svg\" height=\"24px\"viewBox=\"0 0 24 24\"\n",
              "       width=\"24px\">\n",
              "    <path d=\"M0 0h24v24H0V0z\" fill=\"none\"/>\n",
              "    <path d=\"M18.56 5.44l.94 2.06.94-2.06 2.06-.94-2.06-.94-.94-2.06-.94 2.06-2.06.94zm-11 1L8.5 8.5l.94-2.06 2.06-.94-2.06-.94L8.5 2.5l-.94 2.06-2.06.94zm10 10l.94 2.06.94-2.06 2.06-.94-2.06-.94-.94-2.06-.94 2.06-2.06.94z\"/><path d=\"M17.41 7.96l-1.37-1.37c-.4-.4-.92-.59-1.43-.59-.52 0-1.04.2-1.43.59L10.3 9.45l-7.72 7.72c-.78.78-.78 2.05 0 2.83L4 21.41c.39.39.9.59 1.41.59.51 0 1.02-.2 1.41-.59l7.78-7.78 2.81-2.81c.8-.78.8-2.07 0-2.86zM5.41 20L4 18.59l7.72-7.72 1.47 1.35L5.41 20z\"/>\n",
              "  </svg>\n",
              "      </button>\n",
              "      \n",
              "  <style>\n",
              "    .colab-df-container {\n",
              "      display:flex;\n",
              "      flex-wrap:wrap;\n",
              "      gap: 12px;\n",
              "    }\n",
              "\n",
              "    .colab-df-convert {\n",
              "      background-color: #E8F0FE;\n",
              "      border: none;\n",
              "      border-radius: 50%;\n",
              "      cursor: pointer;\n",
              "      display: none;\n",
              "      fill: #1967D2;\n",
              "      height: 32px;\n",
              "      padding: 0 0 0 0;\n",
              "      width: 32px;\n",
              "    }\n",
              "\n",
              "    .colab-df-convert:hover {\n",
              "      background-color: #E2EBFA;\n",
              "      box-shadow: 0px 1px 2px rgba(60, 64, 67, 0.3), 0px 1px 3px 1px rgba(60, 64, 67, 0.15);\n",
              "      fill: #174EA6;\n",
              "    }\n",
              "\n",
              "    [theme=dark] .colab-df-convert {\n",
              "      background-color: #3B4455;\n",
              "      fill: #D2E3FC;\n",
              "    }\n",
              "\n",
              "    [theme=dark] .colab-df-convert:hover {\n",
              "      background-color: #434B5C;\n",
              "      box-shadow: 0px 1px 3px 1px rgba(0, 0, 0, 0.15);\n",
              "      filter: drop-shadow(0px 1px 2px rgba(0, 0, 0, 0.3));\n",
              "      fill: #FFFFFF;\n",
              "    }\n",
              "  </style>\n",
              "\n",
              "      <script>\n",
              "        const buttonEl =\n",
              "          document.querySelector('#df-989a4538-d8cf-4158-93a5-879c8e3f1537 button.colab-df-convert');\n",
              "        buttonEl.style.display =\n",
              "          google.colab.kernel.accessAllowed ? 'block' : 'none';\n",
              "\n",
              "        async function convertToInteractive(key) {\n",
              "          const element = document.querySelector('#df-989a4538-d8cf-4158-93a5-879c8e3f1537');\n",
              "          const dataTable =\n",
              "            await google.colab.kernel.invokeFunction('convertToInteractive',\n",
              "                                                     [key], {});\n",
              "          if (!dataTable) return;\n",
              "\n",
              "          const docLinkHtml = 'Like what you see? Visit the ' +\n",
              "            '<a target=\"_blank\" href=https://colab.research.google.com/notebooks/data_table.ipynb>data table notebook</a>'\n",
              "            + ' to learn more about interactive tables.';\n",
              "          element.innerHTML = '';\n",
              "          dataTable['output_type'] = 'display_data';\n",
              "          await google.colab.output.renderOutput(dataTable, element);\n",
              "          const docLink = document.createElement('div');\n",
              "          docLink.innerHTML = docLinkHtml;\n",
              "          element.appendChild(docLink);\n",
              "        }\n",
              "      </script>\n",
              "    </div>\n",
              "  </div>\n",
              "  "
            ]
          },
          "metadata": {},
          "execution_count": 14
        }
      ]
    },
    {
      "cell_type": "code",
      "source": [
        "####################################\n",
        "# Keep all code above!!! ###########\n",
        "####################################"
      ],
      "metadata": {
        "id": "zcIILCYqcF8v"
      },
      "execution_count": 15,
      "outputs": []
    },
    {
      "cell_type": "markdown",
      "source": [
        "# 3. \n",
        "# y = target variable (high versus low altitude population)\n",
        "#    X = predictor variables (genes -> PCA)"
      ],
      "metadata": {
        "id": "17vYr0LtVtgY"
      }
    },
    {
      "cell_type": "code",
      "execution_count": 16,
      "metadata": {
        "id": "3Z1qVc87QVIe"
      },
      "outputs": [],
      "source": [
        "X = df_gastroc.drop(labels=['Treatment'], axis = 1)\n",
        "y = df_gastroc.Treatment"
      ]
    },
    {
      "cell_type": "code",
      "source": [
        "y = y.astype(int)"
      ],
      "metadata": {
        "id": "m06lre8AabE3"
      },
      "execution_count": 17,
      "outputs": []
    },
    {
      "cell_type": "code",
      "source": [
        "#genes = list(X.columns)"
      ],
      "metadata": {
        "id": "4SPhxOI3kCEX"
      },
      "execution_count": 18,
      "outputs": []
    },
    {
      "cell_type": "code",
      "source": [
        "#genes"
      ],
      "metadata": {
        "id": "9gLbspsskGkN"
      },
      "execution_count": 19,
      "outputs": []
    },
    {
      "cell_type": "markdown",
      "source": [
        "# 4. Normalization"
      ],
      "metadata": {
        "id": "x2_mfbQKWIMw"
      }
    },
    {
      "cell_type": "code",
      "source": [
        "scaler = StandardScaler()\n",
        "scaler.fit(X)\n",
        "X_trans = scaler.transform(X)"
      ],
      "metadata": {
        "id": "1a1ztQctYzHH"
      },
      "execution_count": 20,
      "outputs": []
    },
    {
      "cell_type": "code",
      "source": [
        "X_trans"
      ],
      "metadata": {
        "colab": {
          "base_uri": "https://localhost:8080/"
        },
        "id": "jco44LYbNEJS",
        "outputId": "c57c1a36-0451-41c5-d4f0-0c989641c426"
      },
      "execution_count": 21,
      "outputs": [
        {
          "output_type": "execute_result",
          "data": {
            "text/plain": [
              "array([[-0.12377096,  0.57329925,  0.55214901, ...,  0.24854285,\n",
              "         0.75002858,  2.0639271 ],\n",
              "       [ 0.23980624,  1.66198874, -0.35443626, ...,  0.3339525 ,\n",
              "         0.3855217 ,  1.21284819],\n",
              "       [-1.03271396, -0.24321786, -1.47507639, ..., -0.84350423,\n",
              "        -0.07305148,  0.01544281],\n",
              "       ...,\n",
              "       [-0.85092536, -0.51539024, -0.32925334, ..., -1.25360347,\n",
              "        -0.66096581, -1.49881447],\n",
              "       [-0.12377096, -1.33190735, -1.10992399, ..., -0.73682526,\n",
              "        -0.4140418 , -0.75089664],\n",
              "       [ 1.51232643, -0.10713168,  0.17440515, ..., -0.47959932,\n",
              "        -0.73151553, -0.79510853]])"
            ]
          },
          "metadata": {},
          "execution_count": 21
        }
      ]
    },
    {
      "cell_type": "markdown",
      "source": [
        "# 5. Apply PCA for dimensionality reduction"
      ],
      "metadata": {
        "id": "pG7V5-G_WOxq"
      }
    },
    {
      "cell_type": "code",
      "source": [
        "#Applying PCA\n",
        "#Taking no. of Principal Components as 3\n",
        "pca = PCA(n_components = 3)\n",
        "pca.fit(X_trans)"
      ],
      "metadata": {
        "colab": {
          "base_uri": "https://localhost:8080/"
        },
        "id": "_Ri5bvwlNCPG",
        "outputId": "3d25ce88-625e-4984-e6c2-e4f0fa593314"
      },
      "execution_count": 27,
      "outputs": [
        {
          "output_type": "execute_result",
          "data": {
            "text/plain": [
              "PCA(n_components=3)"
            ]
          },
          "metadata": {},
          "execution_count": 27
        }
      ]
    },
    {
      "cell_type": "code",
      "source": [
        "data_pca = pca.transform(X_trans)\n",
        "data_pca = pd.DataFrame(data_pca,columns=['PC1','PC2','PC3'])\n",
        "data_pca.head()"
      ],
      "metadata": {
        "colab": {
          "base_uri": "https://localhost:8080/",
          "height": 206
        },
        "id": "PDdxAqhgOK_a",
        "outputId": "3f5c3692-aa9a-4cb2-e44d-19774418693d"
      },
      "execution_count": 28,
      "outputs": [
        {
          "output_type": "execute_result",
          "data": {
            "text/plain": [
              "         PC1        PC2        PC3\n",
              "0 -44.117166  26.196736   6.949403\n",
              "1 -47.573065 -12.572122 -11.710366\n",
              "2 -72.231403  -6.664256  -6.881616\n",
              "3  17.838188 -20.307770   3.901216\n",
              "4  73.311040   2.032396 -22.957010"
            ],
            "text/html": [
              "\n",
              "  <div id=\"df-ded3b57e-76ae-4afa-8cfb-6c584c16a7f7\">\n",
              "    <div class=\"colab-df-container\">\n",
              "      <div>\n",
              "<style scoped>\n",
              "    .dataframe tbody tr th:only-of-type {\n",
              "        vertical-align: middle;\n",
              "    }\n",
              "\n",
              "    .dataframe tbody tr th {\n",
              "        vertical-align: top;\n",
              "    }\n",
              "\n",
              "    .dataframe thead th {\n",
              "        text-align: right;\n",
              "    }\n",
              "</style>\n",
              "<table border=\"1\" class=\"dataframe\">\n",
              "  <thead>\n",
              "    <tr style=\"text-align: right;\">\n",
              "      <th></th>\n",
              "      <th>PC1</th>\n",
              "      <th>PC2</th>\n",
              "      <th>PC3</th>\n",
              "    </tr>\n",
              "  </thead>\n",
              "  <tbody>\n",
              "    <tr>\n",
              "      <th>0</th>\n",
              "      <td>-44.117166</td>\n",
              "      <td>26.196736</td>\n",
              "      <td>6.949403</td>\n",
              "    </tr>\n",
              "    <tr>\n",
              "      <th>1</th>\n",
              "      <td>-47.573065</td>\n",
              "      <td>-12.572122</td>\n",
              "      <td>-11.710366</td>\n",
              "    </tr>\n",
              "    <tr>\n",
              "      <th>2</th>\n",
              "      <td>-72.231403</td>\n",
              "      <td>-6.664256</td>\n",
              "      <td>-6.881616</td>\n",
              "    </tr>\n",
              "    <tr>\n",
              "      <th>3</th>\n",
              "      <td>17.838188</td>\n",
              "      <td>-20.307770</td>\n",
              "      <td>3.901216</td>\n",
              "    </tr>\n",
              "    <tr>\n",
              "      <th>4</th>\n",
              "      <td>73.311040</td>\n",
              "      <td>2.032396</td>\n",
              "      <td>-22.957010</td>\n",
              "    </tr>\n",
              "  </tbody>\n",
              "</table>\n",
              "</div>\n",
              "      <button class=\"colab-df-convert\" onclick=\"convertToInteractive('df-ded3b57e-76ae-4afa-8cfb-6c584c16a7f7')\"\n",
              "              title=\"Convert this dataframe to an interactive table.\"\n",
              "              style=\"display:none;\">\n",
              "        \n",
              "  <svg xmlns=\"http://www.w3.org/2000/svg\" height=\"24px\"viewBox=\"0 0 24 24\"\n",
              "       width=\"24px\">\n",
              "    <path d=\"M0 0h24v24H0V0z\" fill=\"none\"/>\n",
              "    <path d=\"M18.56 5.44l.94 2.06.94-2.06 2.06-.94-2.06-.94-.94-2.06-.94 2.06-2.06.94zm-11 1L8.5 8.5l.94-2.06 2.06-.94-2.06-.94L8.5 2.5l-.94 2.06-2.06.94zm10 10l.94 2.06.94-2.06 2.06-.94-2.06-.94-.94-2.06-.94 2.06-2.06.94z\"/><path d=\"M17.41 7.96l-1.37-1.37c-.4-.4-.92-.59-1.43-.59-.52 0-1.04.2-1.43.59L10.3 9.45l-7.72 7.72c-.78.78-.78 2.05 0 2.83L4 21.41c.39.39.9.59 1.41.59.51 0 1.02-.2 1.41-.59l7.78-7.78 2.81-2.81c.8-.78.8-2.07 0-2.86zM5.41 20L4 18.59l7.72-7.72 1.47 1.35L5.41 20z\"/>\n",
              "  </svg>\n",
              "      </button>\n",
              "      \n",
              "  <style>\n",
              "    .colab-df-container {\n",
              "      display:flex;\n",
              "      flex-wrap:wrap;\n",
              "      gap: 12px;\n",
              "    }\n",
              "\n",
              "    .colab-df-convert {\n",
              "      background-color: #E8F0FE;\n",
              "      border: none;\n",
              "      border-radius: 50%;\n",
              "      cursor: pointer;\n",
              "      display: none;\n",
              "      fill: #1967D2;\n",
              "      height: 32px;\n",
              "      padding: 0 0 0 0;\n",
              "      width: 32px;\n",
              "    }\n",
              "\n",
              "    .colab-df-convert:hover {\n",
              "      background-color: #E2EBFA;\n",
              "      box-shadow: 0px 1px 2px rgba(60, 64, 67, 0.3), 0px 1px 3px 1px rgba(60, 64, 67, 0.15);\n",
              "      fill: #174EA6;\n",
              "    }\n",
              "\n",
              "    [theme=dark] .colab-df-convert {\n",
              "      background-color: #3B4455;\n",
              "      fill: #D2E3FC;\n",
              "    }\n",
              "\n",
              "    [theme=dark] .colab-df-convert:hover {\n",
              "      background-color: #434B5C;\n",
              "      box-shadow: 0px 1px 3px 1px rgba(0, 0, 0, 0.15);\n",
              "      filter: drop-shadow(0px 1px 2px rgba(0, 0, 0, 0.3));\n",
              "      fill: #FFFFFF;\n",
              "    }\n",
              "  </style>\n",
              "\n",
              "      <script>\n",
              "        const buttonEl =\n",
              "          document.querySelector('#df-ded3b57e-76ae-4afa-8cfb-6c584c16a7f7 button.colab-df-convert');\n",
              "        buttonEl.style.display =\n",
              "          google.colab.kernel.accessAllowed ? 'block' : 'none';\n",
              "\n",
              "        async function convertToInteractive(key) {\n",
              "          const element = document.querySelector('#df-ded3b57e-76ae-4afa-8cfb-6c584c16a7f7');\n",
              "          const dataTable =\n",
              "            await google.colab.kernel.invokeFunction('convertToInteractive',\n",
              "                                                     [key], {});\n",
              "          if (!dataTable) return;\n",
              "\n",
              "          const docLinkHtml = 'Like what you see? Visit the ' +\n",
              "            '<a target=\"_blank\" href=https://colab.research.google.com/notebooks/data_table.ipynb>data table notebook</a>'\n",
              "            + ' to learn more about interactive tables.';\n",
              "          element.innerHTML = '';\n",
              "          dataTable['output_type'] = 'display_data';\n",
              "          await google.colab.output.renderOutput(dataTable, element);\n",
              "          const docLink = document.createElement('div');\n",
              "          docLink.innerHTML = docLinkHtml;\n",
              "          element.appendChild(docLink);\n",
              "        }\n",
              "      </script>\n",
              "    </div>\n",
              "  </div>\n",
              "  "
            ]
          },
          "metadata": {},
          "execution_count": 28
        }
      ]
    },
    {
      "cell_type": "code",
      "source": [
        "#sns.heatmap(data_pca.corr(), cmap=\"YlGnBu\")"
      ],
      "metadata": {
        "id": "wQbVxy5eNUcZ"
      },
      "execution_count": 29,
      "outputs": []
    },
    {
      "cell_type": "code",
      "source": [
        "X = data_pca"
      ],
      "metadata": {
        "id": "bHZsEIcINUfu"
      },
      "execution_count": 30,
      "outputs": []
    },
    {
      "cell_type": "code",
      "source": [
        "###############################################"
      ],
      "metadata": {
        "id": "SoA2LacrNCYF"
      },
      "execution_count": 31,
      "outputs": []
    },
    {
      "cell_type": "markdown",
      "source": [
        "# 6. Split data into a training and testing set "
      ],
      "metadata": {
        "id": "XeAKm46nWUEg"
      }
    },
    {
      "cell_type": "code",
      "source": [
        "X_train, X_test, y_train, y_test = train_test_split(X, y, test_size=0.20, random_state = 42)"
      ],
      "metadata": {
        "id": "ov5Yql3EZzXm"
      },
      "execution_count": 32,
      "outputs": []
    },
    {
      "cell_type": "code",
      "source": [
        "X_train  = X_train.astype(int)\n",
        "X_test  = X_test.astype(int)"
      ],
      "metadata": {
        "id": "0d7PumOfZzaX"
      },
      "execution_count": 33,
      "outputs": []
    },
    {
      "cell_type": "code",
      "source": [
        "X.shape"
      ],
      "metadata": {
        "id": "D3JZZLLEdJ5a",
        "colab": {
          "base_uri": "https://localhost:8080/"
        },
        "outputId": "5a6abe84-b891-4de3-e1f5-d47d1bb24ce9"
      },
      "execution_count": 34,
      "outputs": [
        {
          "output_type": "execute_result",
          "data": {
            "text/plain": [
              "(47, 3)"
            ]
          },
          "metadata": {},
          "execution_count": 34
        }
      ]
    },
    {
      "cell_type": "code",
      "source": [
        "#X"
      ],
      "metadata": {
        "id": "jxB-gxSZPwPQ"
      },
      "execution_count": 35,
      "outputs": []
    },
    {
      "cell_type": "markdown",
      "source": [
        "# 7. Create the NN model"
      ],
      "metadata": {
        "id": "sLrfWWhzWdQN"
      }
    },
    {
      "cell_type": "code",
      "source": [
        "model = tf.keras.models.Sequential()"
      ],
      "metadata": {
        "id": "MgfjIDMMSPcN"
      },
      "execution_count": 36,
      "outputs": []
    },
    {
      "cell_type": "markdown",
      "source": [
        "Hyperparameters:\n",
        "\n",
        "number of neurons: 128\n",
        "\n",
        "activation function: ReLU\n",
        "\n",
        "input_shape: (None,47,5 )"
      ],
      "metadata": {
        "id": "XDFY9JN1e26o"
      }
    },
    {
      "cell_type": "code",
      "source": [
        "model.add(tf.keras.layers.Dense(units = 128, activation = 'relu', input_shape = (None, 47,3)))\n"
      ],
      "metadata": {
        "id": "UZNyZAkZTUaI"
      },
      "execution_count": 37,
      "outputs": []
    },
    {
      "cell_type": "markdown",
      "source": [
        "Add a dropout layer"
      ],
      "metadata": {
        "id": "4k5I_xwlfE9i"
      }
    },
    {
      "cell_type": "code",
      "source": [
        "model.add(tf.keras.layers.Dropout(0.2))"
      ],
      "metadata": {
        "id": "xomcXXKRTUdA"
      },
      "execution_count": 38,
      "outputs": []
    },
    {
      "cell_type": "markdown",
      "source": [
        "Add an output layer"
      ],
      "metadata": {
        "id": "mj6vyWrXfPDr"
      }
    },
    {
      "cell_type": "code",
      "source": [
        "model.add(tf.keras.layers.Dense(units = 10, activation = 'softmax'))"
      ],
      "metadata": {
        "id": "CIOqCucBfIFJ"
      },
      "execution_count": 39,
      "outputs": []
    },
    {
      "cell_type": "markdown",
      "source": [
        "Model compiler"
      ],
      "metadata": {
        "id": "NG4DP2a3fY5w"
      }
    },
    {
      "cell_type": "code",
      "source": [
        "model.compile(optimizer='adam',loss = tf.keras.losses.SparseCategoricalCrossentropy(from_logits=True),\n",
        "              metrics=['accuracy'])\n"
      ],
      "metadata": {
        "id": "lxU5h20LT-si"
      },
      "execution_count": 40,
      "outputs": []
    },
    {
      "cell_type": "code",
      "source": [
        "#model.fit(X_train, y_train, epochs =5)"
      ],
      "metadata": {
        "id": "1z97JzPpT-vR"
      },
      "execution_count": 41,
      "outputs": []
    },
    {
      "cell_type": "markdown",
      "source": [
        "Training the ANN"
      ],
      "metadata": {
        "id": "2KYJA36Vfg8Y"
      }
    },
    {
      "cell_type": "code",
      "source": [
        "# Training the ANN:\n",
        "model.fit(X_train, y_train, epochs = 10, batch_size = 10, verbose=1)"
      ],
      "metadata": {
        "id": "xNdtc8NXnhcZ",
        "colab": {
          "base_uri": "https://localhost:8080/"
        },
        "outputId": "7764f9ad-a0b2-4272-84bf-b401bfb70cf6"
      },
      "execution_count": 42,
      "outputs": [
        {
          "output_type": "stream",
          "name": "stdout",
          "text": [
            "Epoch 1/10\n"
          ]
        },
        {
          "output_type": "stream",
          "name": "stderr",
          "text": [
            "WARNING:tensorflow:Model was constructed with shape (None, None, 47, 3) for input KerasTensor(type_spec=TensorSpec(shape=(None, None, 47, 3), dtype=tf.float32, name='dense_input'), name='dense_input', description=\"created by layer 'dense_input'\"), but it was called on an input with incompatible shape (None, 3).\n",
            "/usr/local/lib/python3.7/dist-packages/tensorflow/python/util/dispatch.py:1082: UserWarning: \"`sparse_categorical_crossentropy` received `from_logits=True`, but the `output` argument was produced by a sigmoid or softmax activation and thus does not represent logits. Was this intended?\"\n",
            "  return dispatch_target(*args, **kwargs)\n",
            "WARNING:tensorflow:Model was constructed with shape (None, None, 47, 3) for input KerasTensor(type_spec=TensorSpec(shape=(None, None, 47, 3), dtype=tf.float32, name='dense_input'), name='dense_input', description=\"created by layer 'dense_input'\"), but it was called on an input with incompatible shape (None, 3).\n"
          ]
        },
        {
          "output_type": "stream",
          "name": "stdout",
          "text": [
            "4/4 [==============================] - 1s 7ms/step - loss: 10.5084 - accuracy: 0.2162\n",
            "Epoch 2/10\n",
            "4/4 [==============================] - 0s 6ms/step - loss: 7.6106 - accuracy: 0.1622\n",
            "Epoch 3/10\n",
            "4/4 [==============================] - 0s 8ms/step - loss: 4.0551 - accuracy: 0.3784\n",
            "Epoch 4/10\n",
            "4/4 [==============================] - 0s 6ms/step - loss: 3.6254 - accuracy: 0.4054\n",
            "Epoch 5/10\n",
            "4/4 [==============================] - 0s 12ms/step - loss: 1.9278 - accuracy: 0.4865\n",
            "Epoch 6/10\n",
            "4/4 [==============================] - 0s 8ms/step - loss: 1.9863 - accuracy: 0.5135\n",
            "Epoch 7/10\n",
            "4/4 [==============================] - 0s 6ms/step - loss: 1.0634 - accuracy: 0.7297\n",
            "Epoch 8/10\n",
            "4/4 [==============================] - 0s 14ms/step - loss: 1.3490 - accuracy: 0.6216\n",
            "Epoch 9/10\n",
            "4/4 [==============================] - 0s 15ms/step - loss: 1.1050 - accuracy: 0.6486\n",
            "Epoch 10/10\n",
            "4/4 [==============================] - 0s 15ms/step - loss: 0.9222 - accuracy: 0.7568\n"
          ]
        },
        {
          "output_type": "execute_result",
          "data": {
            "text/plain": [
              "<keras.callbacks.History at 0x7f082f254550>"
            ]
          },
          "metadata": {},
          "execution_count": 42
        }
      ]
    },
    {
      "cell_type": "markdown",
      "source": [
        "# 8. Testing the accuracy of the NN"
      ],
      "metadata": {
        "id": "P0mtT4bCWibM"
      }
    },
    {
      "cell_type": "code",
      "execution_count": 43,
      "metadata": {
        "id": "Bu9qEQ0dQVIi",
        "colab": {
          "base_uri": "https://localhost:8080/"
        },
        "outputId": "88da15d8-d3f8-4c4e-e795-e343bc07a2ef"
      },
      "outputs": [
        {
          "output_type": "stream",
          "name": "stderr",
          "text": [
            "WARNING:tensorflow:Model was constructed with shape (None, None, 47, 3) for input KerasTensor(type_spec=TensorSpec(shape=(None, None, 47, 3), dtype=tf.float32, name='dense_input'), name='dense_input', description=\"created by layer 'dense_input'\"), but it was called on an input with incompatible shape (None, 3).\n",
            "/usr/local/lib/python3.7/dist-packages/tensorflow/python/util/dispatch.py:1082: UserWarning: \"`sparse_categorical_crossentropy` received `from_logits=True`, but the `output` argument was produced by a sigmoid or softmax activation and thus does not represent logits. Was this intended?\"\n",
            "  return dispatch_target(*args, **kwargs)\n"
          ]
        },
        {
          "output_type": "stream",
          "name": "stdout",
          "text": [
            "1/1 [==============================] - 0s 383ms/step - loss: 0.1200 - accuracy: 0.9000\n"
          ]
        }
      ],
      "source": [
        "test_loss, test_accuracy = model.evaluate(X_test, y_test)"
      ]
    },
    {
      "cell_type": "code",
      "source": [
        "test_loss"
      ],
      "metadata": {
        "colab": {
          "base_uri": "https://localhost:8080/"
        },
        "id": "8oaLdjMZfzOJ",
        "outputId": "e6a8e3a6-2e88-46d9-d718-4dc29ff866f1"
      },
      "execution_count": 44,
      "outputs": [
        {
          "output_type": "execute_result",
          "data": {
            "text/plain": [
              "0.11995889246463776"
            ]
          },
          "metadata": {},
          "execution_count": 44
        }
      ]
    },
    {
      "cell_type": "code",
      "source": [
        "test_accuracy"
      ],
      "metadata": {
        "colab": {
          "base_uri": "https://localhost:8080/"
        },
        "id": "IE_sUcm2f1QF",
        "outputId": "46a4f26d-248c-4477-df19-e57aa4b8b63e"
      },
      "execution_count": 45,
      "outputs": [
        {
          "output_type": "execute_result",
          "data": {
            "text/plain": [
              "0.8999999761581421"
            ]
          },
          "metadata": {},
          "execution_count": 45
        }
      ]
    },
    {
      "cell_type": "markdown",
      "source": [
        "###########################"
      ],
      "metadata": {
        "id": "NgHqQCgWWnRD"
      }
    },
    {
      "cell_type": "markdown",
      "source": [
        "## ** Task 2: Predicting Treatment**"
      ],
      "metadata": {
        "id": "Ac3fm7XPWpMO"
      }
    }
  ],
  "metadata": {
    "kernelspec": {
      "display_name": "Python 3 (ipykernel)",
      "language": "python",
      "name": "python3"
    },
    "language_info": {
      "codemirror_mode": {
        "name": "ipython",
        "version": 3
      },
      "file_extension": ".py",
      "mimetype": "text/x-python",
      "name": "python",
      "nbconvert_exporter": "python",
      "pygments_lexer": "ipython3",
      "version": "3.9.7"
    },
    "colab": {
      "provenance": [],
      "collapsed_sections": [],
      "include_colab_link": true
    }
  },
  "nbformat": 4,
  "nbformat_minor": 0
}